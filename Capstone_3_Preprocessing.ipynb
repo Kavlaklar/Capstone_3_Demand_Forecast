{
 "cells": [
  {
   "cell_type": "markdown",
   "id": "5d360e18-cc55-45a8-bf07-dd46215eb3d1",
   "metadata": {},
   "source": [
    "<h1>Capstone 3</h1>"
   ]
  },
  {
   "cell_type": "markdown",
   "id": "e288ec28-eae5-40f2-a549-851deb4d2bfa",
   "metadata": {},
   "source": [
    "<h2>3. Preprocessing</h2>"
   ]
  },
  {
   "cell_type": "markdown",
   "id": "86c95804-7eb4-4626-b783-39302e222b31",
   "metadata": {},
   "source": [
    "**Contents**"
   ]
  },
  {
   "cell_type": "markdown",
   "id": "478b4fb6-bec5-4b6d-b274-ee0443d48aeb",
   "metadata": {},
   "source": [
    "3.1 Introduction\n",
    "\n",
    "3.2 Creating Product Categories\n",
    "\n",
    "    3.2.1 Cleaning & Preprocessing text data\n",
    "    3.2.2 Building Bertopic Model\n",
    "\n",
    "3.1 Preprocessing"
   ]
  },
  {
   "cell_type": "markdown",
   "id": "7dcf3639-59b3-4c46-87ac-207d9c7c3d7a",
   "metadata": {},
   "source": [
    "**3.1. Indroduction**"
   ]
  },
  {
   "cell_type": "markdown",
   "id": "118d963b-be3c-47dc-a253-6d02393584b4",
   "metadata": {},
   "source": [
    "In this notebook, I leverage an NLP model-- BERTopic to categorize products into distinct groups. Subsequently, I construct a comprehensive pipeline to preprocess the time-series data, ensuring it is well-structured and ready for integration into the forecasting model."
   ]
  },
  {
   "cell_type": "markdown",
   "id": "55b03aef-8dde-4f0d-bdf6-e62a5fff9f48",
   "metadata": {},
   "source": [
    "**3.2. Creating Product Categories**"
   ]
  },
  {
   "cell_type": "code",
   "execution_count": 196,
   "id": "7fcccdd6-21bc-4b09-93b6-ef9926809647",
   "metadata": {},
   "outputs": [
    {
     "name": "stdout",
     "output_type": "stream",
     "text": [
      "Requirement already satisfied: bertopic in c:\\users\\umitk\\anaconda3\\lib\\site-packages (0.16.3)\n",
      "Requirement already satisfied: hdbscan>=0.8.29 in c:\\users\\umitk\\anaconda3\\lib\\site-packages (from bertopic) (0.8.38.post1)\n",
      "Requirement already satisfied: numpy>=1.20.0 in c:\\users\\umitk\\anaconda3\\lib\\site-packages (from bertopic) (1.26.4)\n",
      "Requirement already satisfied: pandas>=1.1.5 in c:\\users\\umitk\\anaconda3\\lib\\site-packages (from bertopic) (2.1.4)\n",
      "Requirement already satisfied: plotly>=4.7.0 in c:\\users\\umitk\\anaconda3\\lib\\site-packages (from bertopic) (5.19.0)\n",
      "Requirement already satisfied: scikit-learn>=0.22.2.post1 in c:\\users\\umitk\\anaconda3\\lib\\site-packages (from bertopic) (1.2.2)\n",
      "Requirement already satisfied: sentence-transformers>=0.4.1 in c:\\users\\umitk\\anaconda3\\lib\\site-packages (from bertopic) (3.0.1)\n",
      "Requirement already satisfied: tqdm>=4.41.1 in c:\\users\\umitk\\anaconda3\\lib\\site-packages (from bertopic) (4.65.0)\n",
      "Requirement already satisfied: umap-learn>=0.5.0 in c:\\users\\umitk\\anaconda3\\lib\\site-packages (from bertopic) (0.5.6)\n",
      "Requirement already satisfied: scipy>=1.0 in c:\\users\\umitk\\anaconda3\\lib\\site-packages (from hdbscan>=0.8.29->bertopic) (1.12.0)\n",
      "Requirement already satisfied: joblib>=1.0 in c:\\users\\umitk\\anaconda3\\lib\\site-packages (from hdbscan>=0.8.29->bertopic) (1.1.1)\n",
      "Requirement already satisfied: python-dateutil>=2.8.2 in c:\\users\\umitk\\anaconda3\\lib\\site-packages (from pandas>=1.1.5->bertopic) (2.8.2)\n",
      "Requirement already satisfied: pytz>=2020.1 in c:\\users\\umitk\\anaconda3\\lib\\site-packages (from pandas>=1.1.5->bertopic) (2023.3.post1)\n",
      "Requirement already satisfied: tzdata>=2022.1 in c:\\users\\umitk\\anaconda3\\lib\\site-packages (from pandas>=1.1.5->bertopic) (2023.3)\n",
      "Requirement already satisfied: tenacity>=6.2.0 in c:\\users\\umitk\\anaconda3\\lib\\site-packages (from plotly>=4.7.0->bertopic) (8.2.2)\n",
      "Requirement already satisfied: packaging in c:\\users\\umitk\\anaconda3\\lib\\site-packages (from plotly>=4.7.0->bertopic) (23.2)\n",
      "Requirement already satisfied: threadpoolctl>=2.0.0 in c:\\users\\umitk\\anaconda3\\lib\\site-packages (from scikit-learn>=0.22.2.post1->bertopic) (2.2.0)\n",
      "Requirement already satisfied: transformers<5.0.0,>=4.34.0 in c:\\users\\umitk\\anaconda3\\lib\\site-packages (from sentence-transformers>=0.4.1->bertopic) (4.44.2)\n",
      "Requirement already satisfied: torch>=1.11.0 in c:\\users\\umitk\\anaconda3\\lib\\site-packages (from sentence-transformers>=0.4.1->bertopic) (2.4.0)\n",
      "Requirement already satisfied: huggingface-hub>=0.15.1 in c:\\users\\umitk\\anaconda3\\lib\\site-packages (from sentence-transformers>=0.4.1->bertopic) (0.24.6)\n",
      "Requirement already satisfied: Pillow in c:\\users\\umitk\\anaconda3\\lib\\site-packages (from sentence-transformers>=0.4.1->bertopic) (10.2.0)\n",
      "Requirement already satisfied: colorama in c:\\users\\umitk\\anaconda3\\lib\\site-packages (from tqdm>=4.41.1->bertopic) (0.4.6)\n",
      "Requirement already satisfied: numba>=0.51.2 in c:\\users\\umitk\\anaconda3\\lib\\site-packages (from umap-learn>=0.5.0->bertopic) (0.59.0)\n",
      "Requirement already satisfied: pynndescent>=0.5 in c:\\users\\umitk\\anaconda3\\lib\\site-packages (from umap-learn>=0.5.0->bertopic) (0.5.13)\n",
      "Requirement already satisfied: filelock in c:\\users\\umitk\\anaconda3\\lib\\site-packages (from huggingface-hub>=0.15.1->sentence-transformers>=0.4.1->bertopic) (3.13.1)\n",
      "Requirement already satisfied: fsspec>=2023.5.0 in c:\\users\\umitk\\anaconda3\\lib\\site-packages (from huggingface-hub>=0.15.1->sentence-transformers>=0.4.1->bertopic) (2023.10.0)\n",
      "Requirement already satisfied: pyyaml>=5.1 in c:\\users\\umitk\\anaconda3\\lib\\site-packages (from huggingface-hub>=0.15.1->sentence-transformers>=0.4.1->bertopic) (6.0.1)\n",
      "Requirement already satisfied: requests in c:\\users\\umitk\\anaconda3\\lib\\site-packages (from huggingface-hub>=0.15.1->sentence-transformers>=0.4.1->bertopic) (2.31.0)\n",
      "Requirement already satisfied: typing-extensions>=3.7.4.3 in c:\\users\\umitk\\anaconda3\\lib\\site-packages (from huggingface-hub>=0.15.1->sentence-transformers>=0.4.1->bertopic) (4.10.0)\n",
      "Requirement already satisfied: llvmlite<0.43,>=0.42.0dev0 in c:\\users\\umitk\\anaconda3\\lib\\site-packages (from numba>=0.51.2->umap-learn>=0.5.0->bertopic) (0.42.0)\n",
      "Requirement already satisfied: six>=1.5 in c:\\users\\umitk\\anaconda3\\lib\\site-packages (from python-dateutil>=2.8.2->pandas>=1.1.5->bertopic) (1.16.0)\n",
      "Requirement already satisfied: sympy in c:\\users\\umitk\\anaconda3\\lib\\site-packages (from torch>=1.11.0->sentence-transformers>=0.4.1->bertopic) (1.12)\n",
      "Requirement already satisfied: networkx in c:\\users\\umitk\\anaconda3\\lib\\site-packages (from torch>=1.11.0->sentence-transformers>=0.4.1->bertopic) (3.1)\n",
      "Requirement already satisfied: jinja2 in c:\\users\\umitk\\anaconda3\\lib\\site-packages (from torch>=1.11.0->sentence-transformers>=0.4.1->bertopic) (3.1.3)\n",
      "Requirement already satisfied: regex!=2019.12.17 in c:\\users\\umitk\\anaconda3\\lib\\site-packages (from transformers<5.0.0,>=4.34.0->sentence-transformers>=0.4.1->bertopic) (2023.10.3)\n",
      "Requirement already satisfied: safetensors>=0.4.1 in c:\\users\\umitk\\anaconda3\\lib\\site-packages (from transformers<5.0.0,>=4.34.0->sentence-transformers>=0.4.1->bertopic) (0.4.4)\n",
      "Requirement already satisfied: tokenizers<0.20,>=0.19 in c:\\users\\umitk\\anaconda3\\lib\\site-packages (from transformers<5.0.0,>=4.34.0->sentence-transformers>=0.4.1->bertopic) (0.19.1)\n",
      "Requirement already satisfied: MarkupSafe>=2.0 in c:\\users\\umitk\\anaconda3\\lib\\site-packages (from jinja2->torch>=1.11.0->sentence-transformers>=0.4.1->bertopic) (2.1.3)\n",
      "Requirement already satisfied: charset-normalizer<4,>=2 in c:\\users\\umitk\\anaconda3\\lib\\site-packages (from requests->huggingface-hub>=0.15.1->sentence-transformers>=0.4.1->bertopic) (2.0.4)\n",
      "Requirement already satisfied: idna<4,>=2.5 in c:\\users\\umitk\\anaconda3\\lib\\site-packages (from requests->huggingface-hub>=0.15.1->sentence-transformers>=0.4.1->bertopic) (3.4)\n",
      "Requirement already satisfied: urllib3<3,>=1.21.1 in c:\\users\\umitk\\anaconda3\\lib\\site-packages (from requests->huggingface-hub>=0.15.1->sentence-transformers>=0.4.1->bertopic) (2.0.7)\n",
      "Requirement already satisfied: certifi>=2017.4.17 in c:\\users\\umitk\\anaconda3\\lib\\site-packages (from requests->huggingface-hub>=0.15.1->sentence-transformers>=0.4.1->bertopic) (2024.2.2)\n",
      "Requirement already satisfied: mpmath>=0.19 in c:\\users\\umitk\\anaconda3\\lib\\site-packages (from sympy->torch>=1.11.0->sentence-transformers>=0.4.1->bertopic) (1.3.0)\n"
     ]
    }
   ],
   "source": [
    "#installing NLP library\n",
    "!pip install bertopic"
   ]
  },
  {
   "cell_type": "code",
   "execution_count": 197,
   "id": "5854d4d5-dc09-47e8-8a28-12c8d094e64f",
   "metadata": {},
   "outputs": [
    {
     "name": "stderr",
     "output_type": "stream",
     "text": [
      "[nltk_data] Downloading package punkt to\n",
      "[nltk_data]     C:\\Users\\umitk\\AppData\\Roaming\\nltk_data...\n",
      "[nltk_data]   Package punkt is already up-to-date!\n",
      "[nltk_data] Downloading package wordnet to\n",
      "[nltk_data]     C:\\Users\\umitk\\AppData\\Roaming\\nltk_data...\n",
      "[nltk_data]   Package wordnet is already up-to-date!\n"
     ]
    }
   ],
   "source": [
    "# Importing libraries\n",
    "\n",
    "import numpy as np\n",
    "import pandas as pd\n",
    "\n",
    "from nltk import word_tokenize\n",
    "import nltk\n",
    "nltk.download('punkt')\n",
    "nltk.download('wordnet')\n",
    "from nltk.stem import PorterStemmer\n",
    "from nltk.stem import WordNetLemmatizer\n",
    "\n",
    "from gensim.models import Word2Vec\n",
    "from sklearn.feature_extraction.text import CountVectorizer\n",
    "\n",
    "from hdbscan import HDBSCAN\n",
    "from bertopic import BERTopic\n",
    "import random\n",
    "from sklearn.pipeline import Pipeline\n",
    "from sklearn.preprocessing import LabelEncoder\n",
    "from sklearn.base import BaseEstimator, TransformerMixin"
   ]
  },
  {
   "cell_type": "code",
   "execution_count": 198,
   "id": "aafc061b-e652-4dbc-874d-9fe7580bdced",
   "metadata": {},
   "outputs": [
    {
     "data": {
      "text/html": [
       "<div>\n",
       "<style scoped>\n",
       "    .dataframe tbody tr th:only-of-type {\n",
       "        vertical-align: middle;\n",
       "    }\n",
       "\n",
       "    .dataframe tbody tr th {\n",
       "        vertical-align: top;\n",
       "    }\n",
       "\n",
       "    .dataframe thead th {\n",
       "        text-align: right;\n",
       "    }\n",
       "</style>\n",
       "<table border=\"1\" class=\"dataframe\">\n",
       "  <thead>\n",
       "    <tr style=\"text-align: right;\">\n",
       "      <th></th>\n",
       "      <th>InvoiceNo</th>\n",
       "      <th>StockCode</th>\n",
       "      <th>Description</th>\n",
       "      <th>Quantity</th>\n",
       "      <th>InvoiceDate</th>\n",
       "      <th>UnitPrice</th>\n",
       "      <th>CustomerID</th>\n",
       "      <th>Country</th>\n",
       "      <th>Months</th>\n",
       "      <th>DayOfMonth</th>\n",
       "      <th>DayOfWeek</th>\n",
       "      <th>WeekOfYear</th>\n",
       "    </tr>\n",
       "  </thead>\n",
       "  <tbody>\n",
       "    <tr>\n",
       "      <th>0</th>\n",
       "      <td>536365</td>\n",
       "      <td>85123A</td>\n",
       "      <td>WHITE HANGING HEART T-LIGHT HOLDER</td>\n",
       "      <td>6</td>\n",
       "      <td>2010-12-01 08:26:00</td>\n",
       "      <td>2.55</td>\n",
       "      <td>17850.0</td>\n",
       "      <td>United Kingdom</td>\n",
       "      <td>12</td>\n",
       "      <td>1</td>\n",
       "      <td>2</td>\n",
       "      <td>0</td>\n",
       "    </tr>\n",
       "    <tr>\n",
       "      <th>1</th>\n",
       "      <td>536365</td>\n",
       "      <td>71053</td>\n",
       "      <td>WHITE METAL LANTERN</td>\n",
       "      <td>6</td>\n",
       "      <td>2010-12-01 08:26:00</td>\n",
       "      <td>3.39</td>\n",
       "      <td>17850.0</td>\n",
       "      <td>United Kingdom</td>\n",
       "      <td>12</td>\n",
       "      <td>1</td>\n",
       "      <td>2</td>\n",
       "      <td>0</td>\n",
       "    </tr>\n",
       "    <tr>\n",
       "      <th>2</th>\n",
       "      <td>536365</td>\n",
       "      <td>84406B</td>\n",
       "      <td>CREAM CUPID HEARTS COAT HANGER</td>\n",
       "      <td>8</td>\n",
       "      <td>2010-12-01 08:26:00</td>\n",
       "      <td>2.75</td>\n",
       "      <td>17850.0</td>\n",
       "      <td>United Kingdom</td>\n",
       "      <td>12</td>\n",
       "      <td>1</td>\n",
       "      <td>2</td>\n",
       "      <td>0</td>\n",
       "    </tr>\n",
       "    <tr>\n",
       "      <th>3</th>\n",
       "      <td>536365</td>\n",
       "      <td>84029G</td>\n",
       "      <td>KNITTED UNION FLAG HOT WATER BOTTLE</td>\n",
       "      <td>6</td>\n",
       "      <td>2010-12-01 08:26:00</td>\n",
       "      <td>3.39</td>\n",
       "      <td>17850.0</td>\n",
       "      <td>United Kingdom</td>\n",
       "      <td>12</td>\n",
       "      <td>1</td>\n",
       "      <td>2</td>\n",
       "      <td>0</td>\n",
       "    </tr>\n",
       "    <tr>\n",
       "      <th>4</th>\n",
       "      <td>536365</td>\n",
       "      <td>84029E</td>\n",
       "      <td>RED WOOLLY HOTTIE WHITE HEART.</td>\n",
       "      <td>6</td>\n",
       "      <td>2010-12-01 08:26:00</td>\n",
       "      <td>3.39</td>\n",
       "      <td>17850.0</td>\n",
       "      <td>United Kingdom</td>\n",
       "      <td>12</td>\n",
       "      <td>1</td>\n",
       "      <td>2</td>\n",
       "      <td>0</td>\n",
       "    </tr>\n",
       "  </tbody>\n",
       "</table>\n",
       "</div>"
      ],
      "text/plain": [
       "  InvoiceNo StockCode                          Description  Quantity  \\\n",
       "0    536365    85123A   WHITE HANGING HEART T-LIGHT HOLDER         6   \n",
       "1    536365     71053                  WHITE METAL LANTERN         6   \n",
       "2    536365    84406B       CREAM CUPID HEARTS COAT HANGER         8   \n",
       "3    536365    84029G  KNITTED UNION FLAG HOT WATER BOTTLE         6   \n",
       "4    536365    84029E       RED WOOLLY HOTTIE WHITE HEART.         6   \n",
       "\n",
       "           InvoiceDate  UnitPrice  CustomerID         Country  Months  \\\n",
       "0  2010-12-01 08:26:00       2.55     17850.0  United Kingdom      12   \n",
       "1  2010-12-01 08:26:00       3.39     17850.0  United Kingdom      12   \n",
       "2  2010-12-01 08:26:00       2.75     17850.0  United Kingdom      12   \n",
       "3  2010-12-01 08:26:00       3.39     17850.0  United Kingdom      12   \n",
       "4  2010-12-01 08:26:00       3.39     17850.0  United Kingdom      12   \n",
       "\n",
       "   DayOfMonth  DayOfWeek  WeekOfYear  \n",
       "0           1          2           0  \n",
       "1           1          2           0  \n",
       "2           1          2           0  \n",
       "3           1          2           0  \n",
       "4           1          2           0  "
      ]
     },
     "execution_count": 198,
     "metadata": {},
     "output_type": "execute_result"
    }
   ],
   "source": [
    "sales_df = pd.read_csv(\"C:/Users/umitk/OneDrive/Documents/myspringboard/Capstone_3_Demand_Forecast/Data/ForecastDataEDA.csv\")\n",
    "sales_df.head()"
   ]
  },
  {
   "cell_type": "markdown",
   "id": "63a2a715-48b6-4fd3-8e8e-053a0028aae8",
   "metadata": {},
   "source": [
    "**3.2.1. Cleaning & Preprocessing text data**"
   ]
  },
  {
   "cell_type": "code",
   "execution_count": 199,
   "id": "c5d595e0-fb24-4743-b87f-96bc13ea4af5",
   "metadata": {},
   "outputs": [
    {
     "data": {
      "text/html": [
       "<div>\n",
       "<style scoped>\n",
       "    .dataframe tbody tr th:only-of-type {\n",
       "        vertical-align: middle;\n",
       "    }\n",
       "\n",
       "    .dataframe tbody tr th {\n",
       "        vertical-align: top;\n",
       "    }\n",
       "\n",
       "    .dataframe thead th {\n",
       "        text-align: right;\n",
       "    }\n",
       "</style>\n",
       "<table border=\"1\" class=\"dataframe\">\n",
       "  <thead>\n",
       "    <tr style=\"text-align: right;\">\n",
       "      <th></th>\n",
       "      <th>InvoiceNo</th>\n",
       "      <th>StockCode</th>\n",
       "      <th>Description</th>\n",
       "      <th>Quantity</th>\n",
       "      <th>InvoiceDate</th>\n",
       "      <th>UnitPrice</th>\n",
       "      <th>CustomerID</th>\n",
       "      <th>Country</th>\n",
       "      <th>Months</th>\n",
       "      <th>DayOfMonth</th>\n",
       "      <th>DayOfWeek</th>\n",
       "      <th>WeekOfYear</th>\n",
       "      <th>CustomerPerProduct</th>\n",
       "    </tr>\n",
       "  </thead>\n",
       "  <tbody>\n",
       "    <tr>\n",
       "      <th>0</th>\n",
       "      <td>536365</td>\n",
       "      <td>85123A</td>\n",
       "      <td>WHITE HANGING HEART T-LIGHT HOLDER</td>\n",
       "      <td>6</td>\n",
       "      <td>2010-12-01 08:26:00</td>\n",
       "      <td>2.55</td>\n",
       "      <td>17850.0</td>\n",
       "      <td>United Kingdom</td>\n",
       "      <td>12</td>\n",
       "      <td>1</td>\n",
       "      <td>2</td>\n",
       "      <td>0</td>\n",
       "      <td>1693.0</td>\n",
       "    </tr>\n",
       "    <tr>\n",
       "      <th>1</th>\n",
       "      <td>536365</td>\n",
       "      <td>71053</td>\n",
       "      <td>WHITE METAL LANTERN</td>\n",
       "      <td>6</td>\n",
       "      <td>2010-12-01 08:26:00</td>\n",
       "      <td>3.39</td>\n",
       "      <td>17850.0</td>\n",
       "      <td>United Kingdom</td>\n",
       "      <td>12</td>\n",
       "      <td>1</td>\n",
       "      <td>2</td>\n",
       "      <td>0</td>\n",
       "      <td>1693.0</td>\n",
       "    </tr>\n",
       "    <tr>\n",
       "      <th>2</th>\n",
       "      <td>536365</td>\n",
       "      <td>84406B</td>\n",
       "      <td>CREAM CUPID HEARTS COAT HANGER</td>\n",
       "      <td>8</td>\n",
       "      <td>2010-12-01 08:26:00</td>\n",
       "      <td>2.75</td>\n",
       "      <td>17850.0</td>\n",
       "      <td>United Kingdom</td>\n",
       "      <td>12</td>\n",
       "      <td>1</td>\n",
       "      <td>2</td>\n",
       "      <td>0</td>\n",
       "      <td>1693.0</td>\n",
       "    </tr>\n",
       "    <tr>\n",
       "      <th>3</th>\n",
       "      <td>536365</td>\n",
       "      <td>84029G</td>\n",
       "      <td>KNITTED UNION FLAG HOT WATER BOTTLE</td>\n",
       "      <td>6</td>\n",
       "      <td>2010-12-01 08:26:00</td>\n",
       "      <td>3.39</td>\n",
       "      <td>17850.0</td>\n",
       "      <td>United Kingdom</td>\n",
       "      <td>12</td>\n",
       "      <td>1</td>\n",
       "      <td>2</td>\n",
       "      <td>0</td>\n",
       "      <td>1693.0</td>\n",
       "    </tr>\n",
       "    <tr>\n",
       "      <th>4</th>\n",
       "      <td>536365</td>\n",
       "      <td>84029E</td>\n",
       "      <td>RED WOOLLY HOTTIE WHITE HEART.</td>\n",
       "      <td>6</td>\n",
       "      <td>2010-12-01 08:26:00</td>\n",
       "      <td>3.39</td>\n",
       "      <td>17850.0</td>\n",
       "      <td>United Kingdom</td>\n",
       "      <td>12</td>\n",
       "      <td>1</td>\n",
       "      <td>2</td>\n",
       "      <td>0</td>\n",
       "      <td>1693.0</td>\n",
       "    </tr>\n",
       "    <tr>\n",
       "      <th>...</th>\n",
       "      <td>...</td>\n",
       "      <td>...</td>\n",
       "      <td>...</td>\n",
       "      <td>...</td>\n",
       "      <td>...</td>\n",
       "      <td>...</td>\n",
       "      <td>...</td>\n",
       "      <td>...</td>\n",
       "      <td>...</td>\n",
       "      <td>...</td>\n",
       "      <td>...</td>\n",
       "      <td>...</td>\n",
       "      <td>...</td>\n",
       "    </tr>\n",
       "    <tr>\n",
       "      <th>513672</th>\n",
       "      <td>C579886</td>\n",
       "      <td>22197</td>\n",
       "      <td>POPCORN HOLDER</td>\n",
       "      <td>-1</td>\n",
       "      <td>2011-11-30 17:39:00</td>\n",
       "      <td>0.85</td>\n",
       "      <td>15676.0</td>\n",
       "      <td>United Kingdom</td>\n",
       "      <td>11</td>\n",
       "      <td>30</td>\n",
       "      <td>2</td>\n",
       "      <td>52</td>\n",
       "      <td>2231.0</td>\n",
       "    </tr>\n",
       "    <tr>\n",
       "      <th>513673</th>\n",
       "      <td>C579886</td>\n",
       "      <td>23146</td>\n",
       "      <td>TRIPLE HOOK ANTIQUE IVORY ROSE</td>\n",
       "      <td>-1</td>\n",
       "      <td>2011-11-30 17:39:00</td>\n",
       "      <td>3.29</td>\n",
       "      <td>15676.0</td>\n",
       "      <td>United Kingdom</td>\n",
       "      <td>11</td>\n",
       "      <td>30</td>\n",
       "      <td>2</td>\n",
       "      <td>52</td>\n",
       "      <td>2231.0</td>\n",
       "    </tr>\n",
       "    <tr>\n",
       "      <th>513674</th>\n",
       "      <td>C579887</td>\n",
       "      <td>84946</td>\n",
       "      <td>ANTIQUE SILVER T-LIGHT GLASS</td>\n",
       "      <td>-1</td>\n",
       "      <td>2011-11-30 17:42:00</td>\n",
       "      <td>1.25</td>\n",
       "      <td>16717.0</td>\n",
       "      <td>United Kingdom</td>\n",
       "      <td>11</td>\n",
       "      <td>30</td>\n",
       "      <td>2</td>\n",
       "      <td>52</td>\n",
       "      <td>1568.0</td>\n",
       "    </tr>\n",
       "    <tr>\n",
       "      <th>513675</th>\n",
       "      <td>C579887</td>\n",
       "      <td>85048</td>\n",
       "      <td>15CM CHRISTMAS GLASS BALL 20 LIGHTS</td>\n",
       "      <td>-1</td>\n",
       "      <td>2011-11-30 17:42:00</td>\n",
       "      <td>7.95</td>\n",
       "      <td>16717.0</td>\n",
       "      <td>United Kingdom</td>\n",
       "      <td>11</td>\n",
       "      <td>30</td>\n",
       "      <td>2</td>\n",
       "      <td>52</td>\n",
       "      <td>1568.0</td>\n",
       "    </tr>\n",
       "    <tr>\n",
       "      <th>513676</th>\n",
       "      <td>C579887</td>\n",
       "      <td>23490</td>\n",
       "      <td>T-LIGHT HOLDER HANGING LOVE BIRD</td>\n",
       "      <td>-3</td>\n",
       "      <td>2011-11-30 17:42:00</td>\n",
       "      <td>3.75</td>\n",
       "      <td>16717.0</td>\n",
       "      <td>United Kingdom</td>\n",
       "      <td>11</td>\n",
       "      <td>30</td>\n",
       "      <td>2</td>\n",
       "      <td>52</td>\n",
       "      <td>1568.0</td>\n",
       "    </tr>\n",
       "  </tbody>\n",
       "</table>\n",
       "<p>513677 rows × 13 columns</p>\n",
       "</div>"
      ],
      "text/plain": [
       "       InvoiceNo StockCode                          Description  Quantity  \\\n",
       "0         536365    85123A   WHITE HANGING HEART T-LIGHT HOLDER         6   \n",
       "1         536365     71053                  WHITE METAL LANTERN         6   \n",
       "2         536365    84406B       CREAM CUPID HEARTS COAT HANGER         8   \n",
       "3         536365    84029G  KNITTED UNION FLAG HOT WATER BOTTLE         6   \n",
       "4         536365    84029E       RED WOOLLY HOTTIE WHITE HEART.         6   \n",
       "...          ...       ...                                  ...       ...   \n",
       "513672   C579886     22197                       POPCORN HOLDER        -1   \n",
       "513673   C579886     23146       TRIPLE HOOK ANTIQUE IVORY ROSE        -1   \n",
       "513674   C579887     84946         ANTIQUE SILVER T-LIGHT GLASS        -1   \n",
       "513675   C579887     85048  15CM CHRISTMAS GLASS BALL 20 LIGHTS        -1   \n",
       "513676   C579887     23490     T-LIGHT HOLDER HANGING LOVE BIRD        -3   \n",
       "\n",
       "                InvoiceDate  UnitPrice  CustomerID         Country  Months  \\\n",
       "0       2010-12-01 08:26:00       2.55     17850.0  United Kingdom      12   \n",
       "1       2010-12-01 08:26:00       3.39     17850.0  United Kingdom      12   \n",
       "2       2010-12-01 08:26:00       2.75     17850.0  United Kingdom      12   \n",
       "3       2010-12-01 08:26:00       3.39     17850.0  United Kingdom      12   \n",
       "4       2010-12-01 08:26:00       3.39     17850.0  United Kingdom      12   \n",
       "...                     ...        ...         ...             ...     ...   \n",
       "513672  2011-11-30 17:39:00       0.85     15676.0  United Kingdom      11   \n",
       "513673  2011-11-30 17:39:00       3.29     15676.0  United Kingdom      11   \n",
       "513674  2011-11-30 17:42:00       1.25     16717.0  United Kingdom      11   \n",
       "513675  2011-11-30 17:42:00       7.95     16717.0  United Kingdom      11   \n",
       "513676  2011-11-30 17:42:00       3.75     16717.0  United Kingdom      11   \n",
       "\n",
       "        DayOfMonth  DayOfWeek  WeekOfYear  CustomerPerProduct  \n",
       "0                1          2           0              1693.0  \n",
       "1                1          2           0              1693.0  \n",
       "2                1          2           0              1693.0  \n",
       "3                1          2           0              1693.0  \n",
       "4                1          2           0              1693.0  \n",
       "...            ...        ...         ...                 ...  \n",
       "513672          30          2          52              2231.0  \n",
       "513673          30          2          52              2231.0  \n",
       "513674          30          2          52              1568.0  \n",
       "513675          30          2          52              1568.0  \n",
       "513676          30          2          52              1568.0  \n",
       "\n",
       "[513677 rows x 13 columns]"
      ]
     },
     "execution_count": 199,
     "metadata": {},
     "output_type": "execute_result"
    }
   ],
   "source": [
    "# Müşteri başına toplam miktarı hesaplayın\n",
    "customer_totals = sales_df.groupby('CustomerID')['Quantity'].sum().reset_index()\n",
    "customer_totals.rename(columns={'Quantity': 'CustomerPerProduct'}, inplace=True)\n",
    "\n",
    "# Orijinal veri çerçevesine müşteri toplamlarını ekleyin\n",
    "sales_df = sales_df.merge(customer_totals, on='CustomerID', how='left')\n",
    "\n",
    "\n",
    "sales_df"
   ]
  },
  {
   "cell_type": "code",
   "execution_count": 200,
   "id": "fc3ef944-14da-4b13-ac89-7efdd40650d0",
   "metadata": {},
   "outputs": [
    {
     "data": {
      "text/plain": [
       "count                                 512243\n",
       "unique                                  4202\n",
       "top       WHITE HANGING HEART T-LIGHT HOLDER\n",
       "freq                                    2306\n",
       "Name: Description, dtype: object"
      ]
     },
     "execution_count": 200,
     "metadata": {},
     "output_type": "execute_result"
    }
   ],
   "source": [
    "sales_df['Description'].describe()"
   ]
  },
  {
   "cell_type": "code",
   "execution_count": 201,
   "id": "08637b75-0e1c-4ce8-addd-73e092161167",
   "metadata": {},
   "outputs": [],
   "source": [
    "#Coverting all words to lower case and removing punctuations\n",
    "sales_df['Description'] = sales_df['Description'].str.lower()\n",
    "\n",
    "sales_df['Description'] = sales_df['Description'].str.replace( '-', ' ')\n",
    "sales_df['Description'] = sales_df['Description'].str.replace( ',', ' ')\n",
    "sales_df['Description'] = sales_df['Description'].str.replace( '?', '')\n",
    "sales_df['Description'] = sales_df['Description'].str.replace( \"'\", '')\n",
    "sales_df['Description'] = sales_df['Description'].str.replace( \".\", '')"
   ]
  },
  {
   "cell_type": "code",
   "execution_count": 202,
   "id": "fb19ac59-6604-4da0-b8fa-44402de53f6e",
   "metadata": {},
   "outputs": [
    {
     "data": {
      "text/html": [
       "<div>\n",
       "<style scoped>\n",
       "    .dataframe tbody tr th:only-of-type {\n",
       "        vertical-align: middle;\n",
       "    }\n",
       "\n",
       "    .dataframe tbody tr th {\n",
       "        vertical-align: top;\n",
       "    }\n",
       "\n",
       "    .dataframe thead th {\n",
       "        text-align: right;\n",
       "    }\n",
       "</style>\n",
       "<table border=\"1\" class=\"dataframe\">\n",
       "  <thead>\n",
       "    <tr style=\"text-align: right;\">\n",
       "      <th></th>\n",
       "      <th>InvoiceNo</th>\n",
       "      <th>StockCode</th>\n",
       "      <th>Description</th>\n",
       "      <th>Quantity</th>\n",
       "      <th>InvoiceDate</th>\n",
       "      <th>UnitPrice</th>\n",
       "      <th>CustomerID</th>\n",
       "      <th>Country</th>\n",
       "      <th>Months</th>\n",
       "      <th>DayOfMonth</th>\n",
       "      <th>DayOfWeek</th>\n",
       "      <th>WeekOfYear</th>\n",
       "      <th>CustomerPerProduct</th>\n",
       "    </tr>\n",
       "  </thead>\n",
       "  <tbody>\n",
       "    <tr>\n",
       "      <th>0</th>\n",
       "      <td>536365</td>\n",
       "      <td>85123A</td>\n",
       "      <td>white hanging heart t light holder</td>\n",
       "      <td>6</td>\n",
       "      <td>2010-12-01 08:26:00</td>\n",
       "      <td>2.55</td>\n",
       "      <td>17850.0</td>\n",
       "      <td>United Kingdom</td>\n",
       "      <td>12</td>\n",
       "      <td>1</td>\n",
       "      <td>2</td>\n",
       "      <td>0</td>\n",
       "      <td>1693.0</td>\n",
       "    </tr>\n",
       "    <tr>\n",
       "      <th>1</th>\n",
       "      <td>536365</td>\n",
       "      <td>71053</td>\n",
       "      <td>white metal lantern</td>\n",
       "      <td>6</td>\n",
       "      <td>2010-12-01 08:26:00</td>\n",
       "      <td>3.39</td>\n",
       "      <td>17850.0</td>\n",
       "      <td>United Kingdom</td>\n",
       "      <td>12</td>\n",
       "      <td>1</td>\n",
       "      <td>2</td>\n",
       "      <td>0</td>\n",
       "      <td>1693.0</td>\n",
       "    </tr>\n",
       "    <tr>\n",
       "      <th>2</th>\n",
       "      <td>536365</td>\n",
       "      <td>84406B</td>\n",
       "      <td>cream cupid hearts coat hanger</td>\n",
       "      <td>8</td>\n",
       "      <td>2010-12-01 08:26:00</td>\n",
       "      <td>2.75</td>\n",
       "      <td>17850.0</td>\n",
       "      <td>United Kingdom</td>\n",
       "      <td>12</td>\n",
       "      <td>1</td>\n",
       "      <td>2</td>\n",
       "      <td>0</td>\n",
       "      <td>1693.0</td>\n",
       "    </tr>\n",
       "    <tr>\n",
       "      <th>3</th>\n",
       "      <td>536365</td>\n",
       "      <td>84029G</td>\n",
       "      <td>knitted union flag hot water bottle</td>\n",
       "      <td>6</td>\n",
       "      <td>2010-12-01 08:26:00</td>\n",
       "      <td>3.39</td>\n",
       "      <td>17850.0</td>\n",
       "      <td>United Kingdom</td>\n",
       "      <td>12</td>\n",
       "      <td>1</td>\n",
       "      <td>2</td>\n",
       "      <td>0</td>\n",
       "      <td>1693.0</td>\n",
       "    </tr>\n",
       "    <tr>\n",
       "      <th>4</th>\n",
       "      <td>536365</td>\n",
       "      <td>84029E</td>\n",
       "      <td>red woolly hottie white heart</td>\n",
       "      <td>6</td>\n",
       "      <td>2010-12-01 08:26:00</td>\n",
       "      <td>3.39</td>\n",
       "      <td>17850.0</td>\n",
       "      <td>United Kingdom</td>\n",
       "      <td>12</td>\n",
       "      <td>1</td>\n",
       "      <td>2</td>\n",
       "      <td>0</td>\n",
       "      <td>1693.0</td>\n",
       "    </tr>\n",
       "    <tr>\n",
       "      <th>...</th>\n",
       "      <td>...</td>\n",
       "      <td>...</td>\n",
       "      <td>...</td>\n",
       "      <td>...</td>\n",
       "      <td>...</td>\n",
       "      <td>...</td>\n",
       "      <td>...</td>\n",
       "      <td>...</td>\n",
       "      <td>...</td>\n",
       "      <td>...</td>\n",
       "      <td>...</td>\n",
       "      <td>...</td>\n",
       "      <td>...</td>\n",
       "    </tr>\n",
       "    <tr>\n",
       "      <th>513672</th>\n",
       "      <td>C579886</td>\n",
       "      <td>22197</td>\n",
       "      <td>popcorn holder</td>\n",
       "      <td>-1</td>\n",
       "      <td>2011-11-30 17:39:00</td>\n",
       "      <td>0.85</td>\n",
       "      <td>15676.0</td>\n",
       "      <td>United Kingdom</td>\n",
       "      <td>11</td>\n",
       "      <td>30</td>\n",
       "      <td>2</td>\n",
       "      <td>52</td>\n",
       "      <td>2231.0</td>\n",
       "    </tr>\n",
       "    <tr>\n",
       "      <th>513673</th>\n",
       "      <td>C579886</td>\n",
       "      <td>23146</td>\n",
       "      <td>triple hook antique ivory rose</td>\n",
       "      <td>-1</td>\n",
       "      <td>2011-11-30 17:39:00</td>\n",
       "      <td>3.29</td>\n",
       "      <td>15676.0</td>\n",
       "      <td>United Kingdom</td>\n",
       "      <td>11</td>\n",
       "      <td>30</td>\n",
       "      <td>2</td>\n",
       "      <td>52</td>\n",
       "      <td>2231.0</td>\n",
       "    </tr>\n",
       "    <tr>\n",
       "      <th>513674</th>\n",
       "      <td>C579887</td>\n",
       "      <td>84946</td>\n",
       "      <td>antique silver t light glass</td>\n",
       "      <td>-1</td>\n",
       "      <td>2011-11-30 17:42:00</td>\n",
       "      <td>1.25</td>\n",
       "      <td>16717.0</td>\n",
       "      <td>United Kingdom</td>\n",
       "      <td>11</td>\n",
       "      <td>30</td>\n",
       "      <td>2</td>\n",
       "      <td>52</td>\n",
       "      <td>1568.0</td>\n",
       "    </tr>\n",
       "    <tr>\n",
       "      <th>513675</th>\n",
       "      <td>C579887</td>\n",
       "      <td>85048</td>\n",
       "      <td>15cm christmas glass ball 20 lights</td>\n",
       "      <td>-1</td>\n",
       "      <td>2011-11-30 17:42:00</td>\n",
       "      <td>7.95</td>\n",
       "      <td>16717.0</td>\n",
       "      <td>United Kingdom</td>\n",
       "      <td>11</td>\n",
       "      <td>30</td>\n",
       "      <td>2</td>\n",
       "      <td>52</td>\n",
       "      <td>1568.0</td>\n",
       "    </tr>\n",
       "    <tr>\n",
       "      <th>513676</th>\n",
       "      <td>C579887</td>\n",
       "      <td>23490</td>\n",
       "      <td>t light holder hanging love bird</td>\n",
       "      <td>-3</td>\n",
       "      <td>2011-11-30 17:42:00</td>\n",
       "      <td>3.75</td>\n",
       "      <td>16717.0</td>\n",
       "      <td>United Kingdom</td>\n",
       "      <td>11</td>\n",
       "      <td>30</td>\n",
       "      <td>2</td>\n",
       "      <td>52</td>\n",
       "      <td>1568.0</td>\n",
       "    </tr>\n",
       "  </tbody>\n",
       "</table>\n",
       "<p>512243 rows × 13 columns</p>\n",
       "</div>"
      ],
      "text/plain": [
       "       InvoiceNo StockCode                          Description  Quantity  \\\n",
       "0         536365    85123A   white hanging heart t light holder         6   \n",
       "1         536365     71053                  white metal lantern         6   \n",
       "2         536365    84406B       cream cupid hearts coat hanger         8   \n",
       "3         536365    84029G  knitted union flag hot water bottle         6   \n",
       "4         536365    84029E        red woolly hottie white heart         6   \n",
       "...          ...       ...                                  ...       ...   \n",
       "513672   C579886     22197                       popcorn holder        -1   \n",
       "513673   C579886     23146       triple hook antique ivory rose        -1   \n",
       "513674   C579887     84946         antique silver t light glass        -1   \n",
       "513675   C579887     85048  15cm christmas glass ball 20 lights        -1   \n",
       "513676   C579887     23490     t light holder hanging love bird        -3   \n",
       "\n",
       "                InvoiceDate  UnitPrice  CustomerID         Country  Months  \\\n",
       "0       2010-12-01 08:26:00       2.55     17850.0  United Kingdom      12   \n",
       "1       2010-12-01 08:26:00       3.39     17850.0  United Kingdom      12   \n",
       "2       2010-12-01 08:26:00       2.75     17850.0  United Kingdom      12   \n",
       "3       2010-12-01 08:26:00       3.39     17850.0  United Kingdom      12   \n",
       "4       2010-12-01 08:26:00       3.39     17850.0  United Kingdom      12   \n",
       "...                     ...        ...         ...             ...     ...   \n",
       "513672  2011-11-30 17:39:00       0.85     15676.0  United Kingdom      11   \n",
       "513673  2011-11-30 17:39:00       3.29     15676.0  United Kingdom      11   \n",
       "513674  2011-11-30 17:42:00       1.25     16717.0  United Kingdom      11   \n",
       "513675  2011-11-30 17:42:00       7.95     16717.0  United Kingdom      11   \n",
       "513676  2011-11-30 17:42:00       3.75     16717.0  United Kingdom      11   \n",
       "\n",
       "        DayOfMonth  DayOfWeek  WeekOfYear  CustomerPerProduct  \n",
       "0                1          2           0              1693.0  \n",
       "1                1          2           0              1693.0  \n",
       "2                1          2           0              1693.0  \n",
       "3                1          2           0              1693.0  \n",
       "4                1          2           0              1693.0  \n",
       "...            ...        ...         ...                 ...  \n",
       "513672          30          2          52              2231.0  \n",
       "513673          30          2          52              2231.0  \n",
       "513674          30          2          52              1568.0  \n",
       "513675          30          2          52              1568.0  \n",
       "513676          30          2          52              1568.0  \n",
       "\n",
       "[512243 rows x 13 columns]"
      ]
     },
     "execution_count": 202,
     "metadata": {},
     "output_type": "execute_result"
    }
   ],
   "source": [
    "#removing null values\n",
    "sales_df.dropna(subset = ['Description'], inplace = True)\n",
    "sales_df"
   ]
  },
  {
   "cell_type": "code",
   "execution_count": 203,
   "id": "d7ac4c22-1980-4067-ad18-3b1a569d46f5",
   "metadata": {},
   "outputs": [],
   "source": [
    "products = sales_df['Description'].unique()"
   ]
  },
  {
   "cell_type": "code",
   "execution_count": 204,
   "id": "f5102409-d556-431d-b4f8-3ba9630cece7",
   "metadata": {},
   "outputs": [],
   "source": [
    "products_series = pd.Series(products)"
   ]
  },
  {
   "cell_type": "code",
   "execution_count": 205,
   "id": "324ed9c9-49ec-42cc-b058-e91d3ec50f1e",
   "metadata": {},
   "outputs": [
    {
     "name": "stdout",
     "output_type": "stream",
     "text": [
      "0         [white, hanging, heart, t, light, holder]\n",
      "1                           [white, metal, lantern]\n",
      "2              [cream, cupid, hearts, coat, hanger]\n",
      "3        [knitted, union, flag, hot, water, bottle]\n",
      "4               [red, woolly, hottie, white, heart]\n",
      "                           ...                     \n",
      "4162                   [set, of, 6, ribbons, party]\n",
      "4163          [set, 10, cards, snowy, robin, 17099]\n",
      "4164                              [lost, in, space]\n",
      "4165    [set, 10, cards, swirly, xmas, tree, 17104]\n",
      "4166                                          [wet]\n",
      "Length: 4167, dtype: object\n"
     ]
    }
   ],
   "source": [
    "#Tokenization\n",
    "\n",
    "tokenized_list = []\n",
    "\n",
    "for x in products:\n",
    "    tokenized = word_tokenize(x)\n",
    "    tokenized_list.append(tokenized)\n",
    "\n",
    "tokenized_series = pd.Series(tokenized_list)\n",
    "tokenized_series.reset_index(drop=True, inplace=True) \n",
    "\n",
    "print(tokenized_series)\n",
    "\n",
    "\n",
    "\n",
    "#Stemming\n",
    "\n",
    "porter = PorterStemmer()\n",
    "\n",
    "def stem_words(word_list):\n",
    "    return [porter.stem(word) for word in word_list]\n",
    "\n",
    "stemmed_series = tokenized_series.apply(stem_words)"
   ]
  },
  {
   "cell_type": "code",
   "execution_count": 206,
   "id": "852f5c03-9e88-4d7f-8972-9823d31cf7d0",
   "metadata": {},
   "outputs": [
    {
     "data": {
      "text/html": [
       "<div>\n",
       "<style scoped>\n",
       "    .dataframe tbody tr th:only-of-type {\n",
       "        vertical-align: middle;\n",
       "    }\n",
       "\n",
       "    .dataframe tbody tr th {\n",
       "        vertical-align: top;\n",
       "    }\n",
       "\n",
       "    .dataframe thead th {\n",
       "        text-align: right;\n",
       "    }\n",
       "</style>\n",
       "<table border=\"1\" class=\"dataframe\">\n",
       "  <thead>\n",
       "    <tr style=\"text-align: right;\">\n",
       "      <th></th>\n",
       "      <th>stemmed_words</th>\n",
       "    </tr>\n",
       "  </thead>\n",
       "  <tbody>\n",
       "    <tr>\n",
       "      <th>0</th>\n",
       "      <td>[white, hang, heart, t, light, holder]</td>\n",
       "    </tr>\n",
       "    <tr>\n",
       "      <th>1</th>\n",
       "      <td>[white, metal, lantern]</td>\n",
       "    </tr>\n",
       "    <tr>\n",
       "      <th>2</th>\n",
       "      <td>[cream, cupid, heart, coat, hanger]</td>\n",
       "    </tr>\n",
       "    <tr>\n",
       "      <th>3</th>\n",
       "      <td>[knit, union, flag, hot, water, bottl]</td>\n",
       "    </tr>\n",
       "    <tr>\n",
       "      <th>4</th>\n",
       "      <td>[red, woolli, hotti, white, heart]</td>\n",
       "    </tr>\n",
       "    <tr>\n",
       "      <th>...</th>\n",
       "      <td>...</td>\n",
       "    </tr>\n",
       "    <tr>\n",
       "      <th>4162</th>\n",
       "      <td>[set, of, 6, ribbon, parti]</td>\n",
       "    </tr>\n",
       "    <tr>\n",
       "      <th>4163</th>\n",
       "      <td>[set, 10, card, snowi, robin, 17099]</td>\n",
       "    </tr>\n",
       "    <tr>\n",
       "      <th>4164</th>\n",
       "      <td>[lost, in, space]</td>\n",
       "    </tr>\n",
       "    <tr>\n",
       "      <th>4165</th>\n",
       "      <td>[set, 10, card, swirli, xma, tree, 17104]</td>\n",
       "    </tr>\n",
       "    <tr>\n",
       "      <th>4166</th>\n",
       "      <td>[wet]</td>\n",
       "    </tr>\n",
       "  </tbody>\n",
       "</table>\n",
       "<p>4167 rows × 1 columns</p>\n",
       "</div>"
      ],
      "text/plain": [
       "                                  stemmed_words\n",
       "0        [white, hang, heart, t, light, holder]\n",
       "1                       [white, metal, lantern]\n",
       "2           [cream, cupid, heart, coat, hanger]\n",
       "3        [knit, union, flag, hot, water, bottl]\n",
       "4            [red, woolli, hotti, white, heart]\n",
       "...                                         ...\n",
       "4162                [set, of, 6, ribbon, parti]\n",
       "4163       [set, 10, card, snowi, robin, 17099]\n",
       "4164                          [lost, in, space]\n",
       "4165  [set, 10, card, swirli, xma, tree, 17104]\n",
       "4166                                      [wet]\n",
       "\n",
       "[4167 rows x 1 columns]"
      ]
     },
     "execution_count": 206,
     "metadata": {},
     "output_type": "execute_result"
    }
   ],
   "source": [
    "stemmed_df = pd.DataFrame(stemmed_series, columns = ['stemmed_words'])\n",
    "stemmed_df"
   ]
  },
  {
   "cell_type": "code",
   "execution_count": 207,
   "id": "94f1ad15-1c33-4b57-ac7e-a068d4754ccd",
   "metadata": {},
   "outputs": [],
   "source": [
    "stemmed_df['products'] = products_series"
   ]
  },
  {
   "cell_type": "markdown",
   "id": "9fab54c0-ec16-4766-bf8f-f5f6f32d94ca",
   "metadata": {},
   "source": [
    "Why? Tokenization breaks down text into smaller units (typically words), making it more manageable for further analysis, such as finding word stems."
   ]
  },
  {
   "cell_type": "markdown",
   "id": "26f34876-4bb2-4bc6-8461-7bfccb1d0df9",
   "metadata": {},
   "source": [
    "Why? Stemming finds the root forms of words, which reduces different inflections of words (e.g., \"running,\" \"ran,\" \"runs\") to the same root form (e.g., \"run\"). This helps create a more uniform text structure and preserves meanings, making it particularly useful in text mining, search engines, and information retrieval systems."
   ]
  },
  {
   "cell_type": "code",
   "execution_count": 208,
   "id": "d246a4f5-92ca-4dcd-9e7f-9058e492c214",
   "metadata": {},
   "outputs": [],
   "source": [
    "#manually creating category names for the products\n",
    "\n",
    "category_names = ['Home and living', 'Kitchen and Dining', 'Toys', \n",
    "                  'Clothing and Accessories', 'Seasonal and Decorative', 'Miscellaneous'] \n",
    "category_names_seies = pd.DataFrame(category_names, columns = ['Category'])\n",
    "\n",
    "categories = category_names_seies.index.to_list()"
   ]
  },
  {
   "cell_type": "code",
   "execution_count": 209,
   "id": "c6886de3-672e-4a5d-a15a-2f7c888b6938",
   "metadata": {},
   "outputs": [],
   "source": [
    "manual_assigned_df = stemmed_df.iloc[:50]\n",
    "remaining_descriptions = stemmed_df.iloc[50:]"
   ]
  },
  {
   "cell_type": "markdown",
   "id": "10dc2492-ac1f-44e1-84d6-027ff6bc2d12",
   "metadata": {},
   "source": [
    "Splitting the Data: This operation allows you to divide a large dataset into smaller parts, making it easier to perform separate operations on each part. For example, if you want to manually process the first 50 rows, you can separate them into a different DataFrame for easy access."
   ]
  },
  {
   "cell_type": "markdown",
   "id": "4829dbc1-f106-4483-b0e5-beb70d208840",
   "metadata": {},
   "source": [
    "Manual Operations: The manual_assigned_df can be used for data on which you want to manually assign categories, make adjustments, or conduct detailed reviews."
   ]
  },
  {
   "cell_type": "markdown",
   "id": "a49119fa-8356-441a-b92e-a7c8ee2f01d8",
   "metadata": {},
   "source": [
    "Storing Remaining Data: The remaining_descriptions holds the data that hasn’t been processed yet or that will be processed differently. This helps you manage operations in an organized and sequential manner."
   ]
  },
  {
   "cell_type": "code",
   "execution_count": 210,
   "id": "dbbcb18a-57b6-4f30-86a7-716849b0495c",
   "metadata": {},
   "outputs": [],
   "source": [
    "#manually assigning the first 50 products to the categories created\n",
    "\n",
    "manual_categories = [0, 0, 3, 3, 3, 4, 0, 3, 3, 4, 2, 2, 2, 1, 1, 2, 2, \n",
    "                     0, 0, 0, 0, 1, 3, 3, 3, 0, 0, 0, 0, 4, 4, 5, 2, 1, \n",
    "                     1, 1, 1, 1, 3, 0, 1, 2, 2, 2, 2, 4, 3, 1, 1, 1]"
   ]
  },
  {
   "cell_type": "code",
   "execution_count": 211,
   "id": "d1ef0567-9a67-4f8c-88ca-bb3d8080bfff",
   "metadata": {},
   "outputs": [],
   "source": [
    "manual_assigned_df['categories'] = manual_categories\n",
    "remaining_descriptions['categories'] = -1"
   ]
  },
  {
   "cell_type": "code",
   "execution_count": 212,
   "id": "baff4656-caef-40f6-bf79-3e21ce899911",
   "metadata": {},
   "outputs": [],
   "source": [
    "#putting data in the right format\n",
    "\n",
    "manual_assigned_df['stemmed_words'] = manual_assigned_df['stemmed_words'].apply(lambda x: ' '.join(x))\n",
    "remaining_descriptions['stemmed_words'] = remaining_descriptions['stemmed_words'].apply(lambda x: ' '.join(x))"
   ]
  },
  {
   "cell_type": "code",
   "execution_count": 213,
   "id": "c354165e-1c7d-425d-a88b-6b35117e9c07",
   "metadata": {},
   "outputs": [],
   "source": [
    "products_df = pd.concat([manual_assigned_df,remaining_descriptions])"
   ]
  },
  {
   "cell_type": "code",
   "execution_count": 214,
   "id": "2a05d183-0e71-4997-8f77-6f627b5fb12c",
   "metadata": {},
   "outputs": [
    {
     "data": {
      "text/html": [
       "<div>\n",
       "<style scoped>\n",
       "    .dataframe tbody tr th:only-of-type {\n",
       "        vertical-align: middle;\n",
       "    }\n",
       "\n",
       "    .dataframe tbody tr th {\n",
       "        vertical-align: top;\n",
       "    }\n",
       "\n",
       "    .dataframe thead th {\n",
       "        text-align: right;\n",
       "    }\n",
       "</style>\n",
       "<table border=\"1\" class=\"dataframe\">\n",
       "  <thead>\n",
       "    <tr style=\"text-align: right;\">\n",
       "      <th></th>\n",
       "      <th>stemmed_words</th>\n",
       "      <th>products</th>\n",
       "      <th>categories</th>\n",
       "    </tr>\n",
       "  </thead>\n",
       "  <tbody>\n",
       "    <tr>\n",
       "      <th>0</th>\n",
       "      <td>white hang heart t light holder</td>\n",
       "      <td>white hanging heart t light holder</td>\n",
       "      <td>0</td>\n",
       "    </tr>\n",
       "    <tr>\n",
       "      <th>1</th>\n",
       "      <td>white metal lantern</td>\n",
       "      <td>white metal lantern</td>\n",
       "      <td>0</td>\n",
       "    </tr>\n",
       "    <tr>\n",
       "      <th>2</th>\n",
       "      <td>cream cupid heart coat hanger</td>\n",
       "      <td>cream cupid hearts coat hanger</td>\n",
       "      <td>3</td>\n",
       "    </tr>\n",
       "    <tr>\n",
       "      <th>3</th>\n",
       "      <td>knit union flag hot water bottl</td>\n",
       "      <td>knitted union flag hot water bottle</td>\n",
       "      <td>3</td>\n",
       "    </tr>\n",
       "    <tr>\n",
       "      <th>4</th>\n",
       "      <td>red woolli hotti white heart</td>\n",
       "      <td>red woolly hottie white heart</td>\n",
       "      <td>3</td>\n",
       "    </tr>\n",
       "    <tr>\n",
       "      <th>...</th>\n",
       "      <td>...</td>\n",
       "      <td>...</td>\n",
       "      <td>...</td>\n",
       "    </tr>\n",
       "    <tr>\n",
       "      <th>4162</th>\n",
       "      <td>set of 6 ribbon parti</td>\n",
       "      <td>set of 6 ribbons party</td>\n",
       "      <td>-1</td>\n",
       "    </tr>\n",
       "    <tr>\n",
       "      <th>4163</th>\n",
       "      <td>set 10 card snowi robin 17099</td>\n",
       "      <td>set 10 cards snowy robin 17099</td>\n",
       "      <td>-1</td>\n",
       "    </tr>\n",
       "    <tr>\n",
       "      <th>4164</th>\n",
       "      <td>lost in space</td>\n",
       "      <td>lost in space</td>\n",
       "      <td>-1</td>\n",
       "    </tr>\n",
       "    <tr>\n",
       "      <th>4165</th>\n",
       "      <td>set 10 card swirli xma tree 17104</td>\n",
       "      <td>set 10 cards swirly xmas tree 17104</td>\n",
       "      <td>-1</td>\n",
       "    </tr>\n",
       "    <tr>\n",
       "      <th>4166</th>\n",
       "      <td>wet</td>\n",
       "      <td>wet</td>\n",
       "      <td>-1</td>\n",
       "    </tr>\n",
       "  </tbody>\n",
       "</table>\n",
       "<p>4167 rows × 3 columns</p>\n",
       "</div>"
      ],
      "text/plain": [
       "                          stemmed_words                             products  \\\n",
       "0       white hang heart t light holder   white hanging heart t light holder   \n",
       "1                   white metal lantern                  white metal lantern   \n",
       "2         cream cupid heart coat hanger       cream cupid hearts coat hanger   \n",
       "3       knit union flag hot water bottl  knitted union flag hot water bottle   \n",
       "4          red woolli hotti white heart        red woolly hottie white heart   \n",
       "...                                 ...                                  ...   \n",
       "4162              set of 6 ribbon parti               set of 6 ribbons party   \n",
       "4163      set 10 card snowi robin 17099       set 10 cards snowy robin 17099   \n",
       "4164                      lost in space                        lost in space   \n",
       "4165  set 10 card swirli xma tree 17104  set 10 cards swirly xmas tree 17104   \n",
       "4166                                wet                                  wet   \n",
       "\n",
       "      categories  \n",
       "0              0  \n",
       "1              0  \n",
       "2              3  \n",
       "3              3  \n",
       "4              3  \n",
       "...          ...  \n",
       "4162          -1  \n",
       "4163          -1  \n",
       "4164          -1  \n",
       "4165          -1  \n",
       "4166          -1  \n",
       "\n",
       "[4167 rows x 3 columns]"
      ]
     },
     "execution_count": 214,
     "metadata": {},
     "output_type": "execute_result"
    }
   ],
   "source": [
    "products_df"
   ]
  },
  {
   "cell_type": "code",
   "execution_count": 215,
   "id": "bd590535-b1ee-4b43-9a5f-9040c7671372",
   "metadata": {},
   "outputs": [],
   "source": [
    "pdcts = products_df['stemmed_words'].astype(str)\n",
    "pdcts = tuple(pdcts)\n",
    "\n",
    "y = products_df['categories']\n",
    "y = tuple(y)"
   ]
  },
  {
   "cell_type": "markdown",
   "id": "93fbefe7-30eb-4597-9f38-56917f8e498c",
   "metadata": {},
   "source": [
    "Why Did We Do This?\n",
    "\n",
    "Data Integrity: Tuples are immutable, ensuring that the data remains unchanged during processing and analysis.\n",
    "Machine Learning and Analysis: Tuples are a standard format for storing data that will be used for modeling, helping maintain consistency and integrity.\n",
    "\n",
    "Maintaining Data Structure: Using tuples helps keep the data organized in a specific order, which is useful for analysis and comparisons.\n",
    "These steps help to format the data in a stable, unchangeable form, making it suitable for analysis and modeling."
   ]
  },
  {
   "cell_type": "markdown",
   "id": "a48b6930-f152-4e35-929a-543c07ab94ec",
   "metadata": {},
   "source": [
    "**3.2.2. Building the Model**"
   ]
  },
  {
   "cell_type": "markdown",
   "id": "9b1140b0-4d84-49a6-af16-ec5303159e4a",
   "metadata": {},
   "source": [
    "**Model**"
   ]
  },
  {
   "cell_type": "code",
   "execution_count": 216,
   "id": "f0423817-8907-4c1d-9dc0-142f3fc2ec51",
   "metadata": {},
   "outputs": [
    {
     "name": "stderr",
     "output_type": "stream",
     "text": [
      "2024-08-28 12:20:16,293 - BERTopic - Embedding - Transforming documents to embeddings.\n"
     ]
    },
    {
     "data": {
      "application/vnd.jupyter.widget-view+json": {
       "model_id": "ac8cea9939ab4943ba6c97b574379ee6",
       "version_major": 2,
       "version_minor": 0
      },
      "text/plain": [
       "Batches:   0%|          | 0/131 [00:00<?, ?it/s]"
      ]
     },
     "metadata": {},
     "output_type": "display_data"
    },
    {
     "name": "stderr",
     "output_type": "stream",
     "text": [
      "2024-08-28 12:21:14,756 - BERTopic - Embedding - Completed ✓\n",
      "2024-08-28 12:21:14,756 - BERTopic - Dimensionality - Fitting the dimensionality reduction algorithm\n",
      "2024-08-28 12:21:37,757 - BERTopic - Dimensionality - Completed ✓\n",
      "2024-08-28 12:21:37,773 - BERTopic - Cluster - Start clustering the reduced embeddings\n",
      "2024-08-28 12:21:38,195 - BERTopic - Cluster - Completed ✓\n",
      "2024-08-28 12:21:38,195 - BERTopic - Representation - Extracting topics from clusters using representation models.\n",
      "2024-08-28 12:21:38,398 - BERTopic - Representation - Completed ✓\n",
      "2024-08-28 12:21:38,398 - BERTopic - Topic reduction - Reducing number of topics\n",
      "2024-08-28 12:21:38,804 - BERTopic - Topic reduction - Reduced number of topics from 27 to 15\n"
     ]
    }
   ],
   "source": [
    "random.seed(0)\n",
    "\n",
    "\n",
    "\n",
    "hdbscan_model = HDBSCAN(min_cluster_size=50, metric='euclidean', min_samples=10,\n",
    "                        cluster_selection_method='eom', prediction_data=True)\n",
    "\n",
    "\n",
    "topic_model = BERTopic(hdbscan_model=hdbscan_model, nr_topics= 15, n_gram_range=(1, 2), verbose =  True)\n",
    "topics, _ = topic_model.fit_transform(pdcts, y=y)"
   ]
  },
  {
   "cell_type": "code",
   "execution_count": 217,
   "id": "6320b73f-378d-4e99-a2ec-f9f2234968d5",
   "metadata": {},
   "outputs": [
    {
     "data": {
      "text/html": [
       "<div>\n",
       "<style scoped>\n",
       "    .dataframe tbody tr th:only-of-type {\n",
       "        vertical-align: middle;\n",
       "    }\n",
       "\n",
       "    .dataframe tbody tr th {\n",
       "        vertical-align: top;\n",
       "    }\n",
       "\n",
       "    .dataframe thead th {\n",
       "        text-align: right;\n",
       "    }\n",
       "</style>\n",
       "<table border=\"1\" class=\"dataframe\">\n",
       "  <thead>\n",
       "    <tr style=\"text-align: right;\">\n",
       "      <th></th>\n",
       "      <th>Topic</th>\n",
       "      <th>Count</th>\n",
       "    </tr>\n",
       "  </thead>\n",
       "  <tbody>\n",
       "    <tr>\n",
       "      <th>2</th>\n",
       "      <td>0</td>\n",
       "      <td>1410</td>\n",
       "    </tr>\n",
       "    <tr>\n",
       "      <th>1</th>\n",
       "      <td>-1</td>\n",
       "      <td>1250</td>\n",
       "    </tr>\n",
       "    <tr>\n",
       "      <th>0</th>\n",
       "      <td>1</td>\n",
       "      <td>287</td>\n",
       "    </tr>\n",
       "    <tr>\n",
       "      <th>13</th>\n",
       "      <td>2</td>\n",
       "      <td>264</td>\n",
       "    </tr>\n",
       "    <tr>\n",
       "      <th>8</th>\n",
       "      <td>3</td>\n",
       "      <td>258</td>\n",
       "    </tr>\n",
       "    <tr>\n",
       "      <th>3</th>\n",
       "      <td>4</td>\n",
       "      <td>99</td>\n",
       "    </tr>\n",
       "    <tr>\n",
       "      <th>10</th>\n",
       "      <td>5</td>\n",
       "      <td>92</td>\n",
       "    </tr>\n",
       "    <tr>\n",
       "      <th>4</th>\n",
       "      <td>6</td>\n",
       "      <td>86</td>\n",
       "    </tr>\n",
       "    <tr>\n",
       "      <th>11</th>\n",
       "      <td>7</td>\n",
       "      <td>70</td>\n",
       "    </tr>\n",
       "    <tr>\n",
       "      <th>6</th>\n",
       "      <td>8</td>\n",
       "      <td>61</td>\n",
       "    </tr>\n",
       "    <tr>\n",
       "      <th>7</th>\n",
       "      <td>9</td>\n",
       "      <td>60</td>\n",
       "    </tr>\n",
       "    <tr>\n",
       "      <th>9</th>\n",
       "      <td>10</td>\n",
       "      <td>60</td>\n",
       "    </tr>\n",
       "    <tr>\n",
       "      <th>12</th>\n",
       "      <td>11</td>\n",
       "      <td>59</td>\n",
       "    </tr>\n",
       "    <tr>\n",
       "      <th>14</th>\n",
       "      <td>12</td>\n",
       "      <td>59</td>\n",
       "    </tr>\n",
       "    <tr>\n",
       "      <th>5</th>\n",
       "      <td>13</td>\n",
       "      <td>52</td>\n",
       "    </tr>\n",
       "  </tbody>\n",
       "</table>\n",
       "</div>"
      ],
      "text/plain": [
       "    Topic  Count\n",
       "2       0   1410\n",
       "1      -1   1250\n",
       "0       1    287\n",
       "13      2    264\n",
       "8       3    258\n",
       "3       4     99\n",
       "10      5     92\n",
       "4       6     86\n",
       "11      7     70\n",
       "6       8     61\n",
       "7       9     60\n",
       "9      10     60\n",
       "12     11     59\n",
       "14     12     59\n",
       "5      13     52"
      ]
     },
     "execution_count": 217,
     "metadata": {},
     "output_type": "execute_result"
    }
   ],
   "source": [
    "topic_model.get_topic_freq()"
   ]
  },
  {
   "cell_type": "code",
   "execution_count": 218,
   "id": "cb3a66f3-f503-4860-8b12-01cd768861d4",
   "metadata": {},
   "outputs": [
    {
     "data": {
      "text/html": [
       "<div>\n",
       "<style scoped>\n",
       "    .dataframe tbody tr th:only-of-type {\n",
       "        vertical-align: middle;\n",
       "    }\n",
       "\n",
       "    .dataframe tbody tr th {\n",
       "        vertical-align: top;\n",
       "    }\n",
       "\n",
       "    .dataframe thead th {\n",
       "        text-align: right;\n",
       "    }\n",
       "</style>\n",
       "<table border=\"1\" class=\"dataframe\">\n",
       "  <thead>\n",
       "    <tr style=\"text-align: right;\">\n",
       "      <th></th>\n",
       "      <th>Topic</th>\n",
       "      <th>Count</th>\n",
       "      <th>Name</th>\n",
       "      <th>Representation</th>\n",
       "      <th>Representative_Docs</th>\n",
       "    </tr>\n",
       "  </thead>\n",
       "  <tbody>\n",
       "    <tr>\n",
       "      <th>0</th>\n",
       "      <td>-1</td>\n",
       "      <td>1250</td>\n",
       "      <td>-1_blue_pink_paper_flower</td>\n",
       "      <td>[blue, pink, paper, flower, card, clock, ring,...</td>\n",
       "      <td>[letter `` o '' bling key ring, letter `` i ''...</td>\n",
       "    </tr>\n",
       "    <tr>\n",
       "      <th>1</th>\n",
       "      <td>0</td>\n",
       "      <td>1410</td>\n",
       "      <td>0_bag_heart_set_decor</td>\n",
       "      <td>[bag, heart, set, decor, of, pink, set of, red...</td>\n",
       "      <td>[jumbo bag pink vintag paisley, larg cake stan...</td>\n",
       "    </tr>\n",
       "    <tr>\n",
       "      <th>2</th>\n",
       "      <td>1</td>\n",
       "      <td>287</td>\n",
       "      <td>1_holder_candl_light_light holder</td>\n",
       "      <td>[holder, candl, light, light holder, zinc, pot...</td>\n",
       "      <td>[zinc star t light holder, heart t light holde...</td>\n",
       "    </tr>\n",
       "    <tr>\n",
       "      <th>3</th>\n",
       "      <td>2</td>\n",
       "      <td>264</td>\n",
       "      <td>2_necklac_ear_bracelet_drop</td>\n",
       "      <td>[necklac, ear, bracelet, drop, black, bead, cr...</td>\n",
       "      <td>[glass bead hoop ear black, glass bead hoop ne...</td>\n",
       "    </tr>\n",
       "    <tr>\n",
       "      <th>4</th>\n",
       "      <td>3</td>\n",
       "      <td>258</td>\n",
       "      <td>3_set 10_10_10 card_card</td>\n",
       "      <td>[set 10, 10, 10 card, card, tissu, set, of 12,...</td>\n",
       "      <td>[set 10 card christma stamp 16963, set 10 card...</td>\n",
       "    </tr>\n",
       "    <tr>\n",
       "      <th>5</th>\n",
       "      <td>4</td>\n",
       "      <td>99</td>\n",
       "      <td>4_girl_dolli girl_dolli_mini</td>\n",
       "      <td>[girl, dolli girl, dolli, mini, spaceboy, chil...</td>\n",
       "      <td>[dolli girl mini backpack, mini jigsaw dolli g...</td>\n",
       "    </tr>\n",
       "    <tr>\n",
       "      <th>6</th>\n",
       "      <td>5</td>\n",
       "      <td>92</td>\n",
       "      <td>5_mirror_magnet_mirror wall_wall</td>\n",
       "      <td>[mirror, magnet, mirror wall, wall, fridg, fri...</td>\n",
       "      <td>[set/4 daisi mirror magnet, set/4 bird mirror ...</td>\n",
       "    </tr>\n",
       "    <tr>\n",
       "      <th>7</th>\n",
       "      <td>6</td>\n",
       "      <td>86</td>\n",
       "      <td>6_vintag_tin vintag_tin_vintag red</td>\n",
       "      <td>[vintag, tin vintag, tin, vintag red, biscuit ...</td>\n",
       "      <td>[biscuit tin vintag christma, biscuit tin vint...</td>\n",
       "    </tr>\n",
       "    <tr>\n",
       "      <th>8</th>\n",
       "      <td>7</td>\n",
       "      <td>70</td>\n",
       "      <td>7_cover_cushion_cushion cover_food cover</td>\n",
       "      <td>[cover, cushion, cushion cover, food cover, fo...</td>\n",
       "      <td>[pink butterfli cushion cover, pink butterfli ...</td>\n",
       "    </tr>\n",
       "    <tr>\n",
       "      <th>9</th>\n",
       "      <td>8</td>\n",
       "      <td>61</td>\n",
       "      <td>8_frame_photo_photo frame_jewel</td>\n",
       "      <td>[frame, photo, photo frame, jewel, pictur fram...</td>\n",
       "      <td>[photo frame cornic, pink jewel photo frame, p...</td>\n",
       "    </tr>\n",
       "    <tr>\n",
       "      <th>10</th>\n",
       "      <td>9</td>\n",
       "      <td>60</td>\n",
       "      <td>9_sign_metal_metal sign_blue metal</td>\n",
       "      <td>[sign, metal, metal sign, blue metal, french, ...</td>\n",
       "      <td>[french blue metal door sign 1, french blue me...</td>\n",
       "    </tr>\n",
       "    <tr>\n",
       "      <th>11</th>\n",
       "      <td>10</td>\n",
       "      <td>60</td>\n",
       "      <td>10_pencil_tube_colour pencil_slate</td>\n",
       "      <td>[pencil, tube, colour pencil, slate, 12, colou...</td>\n",
       "      <td>[set 12 colour pencil spaceboy, set 12 colour ...</td>\n",
       "    </tr>\n",
       "    <tr>\n",
       "      <th>12</th>\n",
       "      <td>11</td>\n",
       "      <td>59</td>\n",
       "      <td>11_wrap_gift wrap_wrap wrap_gift</td>\n",
       "      <td>[wrap, gift wrap, wrap wrap, gift, wrap vintag...</td>\n",
       "      <td>[romant imag gift wrap set, roll wrap vintag c...</td>\n",
       "    </tr>\n",
       "    <tr>\n",
       "      <th>13</th>\n",
       "      <td>12</td>\n",
       "      <td>59</td>\n",
       "      <td>12_wall art_art_wall_bicycl</td>\n",
       "      <td>[wall art, art, wall, bicycl, art wall, landma...</td>\n",
       "      <td>[wall art dog and ball, i love london wall art...</td>\n",
       "    </tr>\n",
       "    <tr>\n",
       "      <th>14</th>\n",
       "      <td>13</td>\n",
       "      <td>52</td>\n",
       "      <td>13_jar_glass_storag jar_storag</td>\n",
       "      <td>[jar, glass, storag jar, storag, jam, dish, ap...</td>\n",
       "      <td>[french style storag jar jam, glass songbird s...</td>\n",
       "    </tr>\n",
       "  </tbody>\n",
       "</table>\n",
       "</div>"
      ],
      "text/plain": [
       "    Topic  Count                                      Name  \\\n",
       "0      -1   1250                 -1_blue_pink_paper_flower   \n",
       "1       0   1410                     0_bag_heart_set_decor   \n",
       "2       1    287         1_holder_candl_light_light holder   \n",
       "3       2    264               2_necklac_ear_bracelet_drop   \n",
       "4       3    258                  3_set 10_10_10 card_card   \n",
       "5       4     99              4_girl_dolli girl_dolli_mini   \n",
       "6       5     92          5_mirror_magnet_mirror wall_wall   \n",
       "7       6     86        6_vintag_tin vintag_tin_vintag red   \n",
       "8       7     70  7_cover_cushion_cushion cover_food cover   \n",
       "9       8     61           8_frame_photo_photo frame_jewel   \n",
       "10      9     60        9_sign_metal_metal sign_blue metal   \n",
       "11     10     60        10_pencil_tube_colour pencil_slate   \n",
       "12     11     59          11_wrap_gift wrap_wrap wrap_gift   \n",
       "13     12     59               12_wall art_art_wall_bicycl   \n",
       "14     13     52            13_jar_glass_storag jar_storag   \n",
       "\n",
       "                                       Representation  \\\n",
       "0   [blue, pink, paper, flower, card, clock, ring,...   \n",
       "1   [bag, heart, set, decor, of, pink, set of, red...   \n",
       "2   [holder, candl, light, light holder, zinc, pot...   \n",
       "3   [necklac, ear, bracelet, drop, black, bead, cr...   \n",
       "4   [set 10, 10, 10 card, card, tissu, set, of 12,...   \n",
       "5   [girl, dolli girl, dolli, mini, spaceboy, chil...   \n",
       "6   [mirror, magnet, mirror wall, wall, fridg, fri...   \n",
       "7   [vintag, tin vintag, tin, vintag red, biscuit ...   \n",
       "8   [cover, cushion, cushion cover, food cover, fo...   \n",
       "9   [frame, photo, photo frame, jewel, pictur fram...   \n",
       "10  [sign, metal, metal sign, blue metal, french, ...   \n",
       "11  [pencil, tube, colour pencil, slate, 12, colou...   \n",
       "12  [wrap, gift wrap, wrap wrap, gift, wrap vintag...   \n",
       "13  [wall art, art, wall, bicycl, art wall, landma...   \n",
       "14  [jar, glass, storag jar, storag, jam, dish, ap...   \n",
       "\n",
       "                                  Representative_Docs  \n",
       "0   [letter `` o '' bling key ring, letter `` i ''...  \n",
       "1   [jumbo bag pink vintag paisley, larg cake stan...  \n",
       "2   [zinc star t light holder, heart t light holde...  \n",
       "3   [glass bead hoop ear black, glass bead hoop ne...  \n",
       "4   [set 10 card christma stamp 16963, set 10 card...  \n",
       "5   [dolli girl mini backpack, mini jigsaw dolli g...  \n",
       "6   [set/4 daisi mirror magnet, set/4 bird mirror ...  \n",
       "7   [biscuit tin vintag christma, biscuit tin vint...  \n",
       "8   [pink butterfli cushion cover, pink butterfli ...  \n",
       "9   [photo frame cornic, pink jewel photo frame, p...  \n",
       "10  [french blue metal door sign 1, french blue me...  \n",
       "11  [set 12 colour pencil spaceboy, set 12 colour ...  \n",
       "12  [romant imag gift wrap set, roll wrap vintag c...  \n",
       "13  [wall art dog and ball, i love london wall art...  \n",
       "14  [french style storag jar jam, glass songbird s...  "
      ]
     },
     "execution_count": 218,
     "metadata": {},
     "output_type": "execute_result"
    }
   ],
   "source": [
    "topic_model.get_topic_info()"
   ]
  },
  {
   "cell_type": "code",
   "execution_count": 219,
   "id": "fcb8533a-447f-40db-ae8c-57638655d06b",
   "metadata": {},
   "outputs": [
    {
     "data": {
      "application/vnd.plotly.v1+json": {
       "config": {
        "plotlyServerURL": "https://plot.ly"
       },
       "data": [
        {
         "customdata": [
          [
           0,
           "bag | heart | set | decor | of",
           1410
          ],
          [
           1,
           "holder | candl | light | light holder | zinc",
           287
          ],
          [
           2,
           "necklac | ear | bracelet | drop | black",
           264
          ],
          [
           3,
           "set 10 | 10 | 10 card | card | tissu",
           258
          ],
          [
           4,
           "girl | dolli girl | dolli | mini | spaceboy",
           99
          ],
          [
           5,
           "mirror | magnet | mirror wall | wall | fridg",
           92
          ],
          [
           6,
           "vintag | tin vintag | tin | vintag red | biscuit tin",
           86
          ],
          [
           7,
           "cover | cushion | cushion cover | food cover | food",
           70
          ],
          [
           8,
           "frame | photo | photo frame | jewel | pictur frame",
           61
          ],
          [
           9,
           "sign | metal | metal sign | blue metal | french",
           60
          ],
          [
           10,
           "pencil | tube | colour pencil | slate | 12",
           60
          ],
          [
           11,
           "wrap | gift wrap | wrap wrap | gift | wrap vintag",
           59
          ],
          [
           12,
           "wall art | art | wall | bicycl | art wall",
           59
          ],
          [
           13,
           "jar | glass | storag jar | storag | jam",
           52
          ]
         ],
         "hovertemplate": "<b>Topic %{customdata[0]}</b><br>%{customdata[1]}<br>Size: %{customdata[2]}",
         "legendgroup": "",
         "marker": {
          "color": "#B0BEC5",
          "line": {
           "color": "DarkSlateGrey",
           "width": 2
          },
          "size": [
           1410,
           287,
           264,
           258,
           99,
           92,
           86,
           70,
           61,
           60,
           60,
           59,
           59,
           52
          ],
          "sizemode": "area",
          "sizeref": 0.88125,
          "symbol": "circle"
         },
         "mode": "markers",
         "name": "",
         "orientation": "v",
         "showlegend": false,
         "type": "scatter",
         "x": [
          12.096102714538574,
          11.897320747375488,
          11.79885482788086,
          9.698325157165527,
          10.362640380859375,
          11.740424156188965,
          11.649831771850586,
          11.06246566772461,
          9.279668807983398,
          11.955251693725586,
          10.5060453414917,
          8.764934539794922,
          10.629393577575684,
          11.511388778686523
         ],
         "xaxis": "x",
         "y": [
          0.2561948895454407,
          2.0675208568573,
          -1.3050211668014526,
          1.8639475107192993,
          0.6205907464027405,
          2.4931106567382812,
          0.9277697801589966,
          1.7683981657028198,
          0.9085229635238647,
          -1.8137117624282837,
          1.2579162120819092,
          -0.16738267242908478,
          -0.0931021124124527,
          0.34874427318573
         ],
         "yaxis": "y"
        }
       ],
       "layout": {
        "annotations": [
         {
          "showarrow": false,
          "text": "D1",
          "x": 7.450194358825684,
          "y": 0.3906543642282485,
          "yshift": 10
         },
         {
          "showarrow": false,
          "text": "D2",
          "x": 10.680356240272522,
          "xshift": 10,
          "y": 2.8670772552490233
         }
        ],
        "height": 650,
        "hoverlabel": {
         "bgcolor": "white",
         "font": {
          "family": "Rockwell",
          "size": 16
         }
        },
        "legend": {
         "itemsizing": "constant",
         "tracegroupgap": 0
        },
        "margin": {
         "t": 60
        },
        "shapes": [
         {
          "line": {
           "color": "#CFD8DC",
           "width": 2
          },
          "type": "line",
          "x0": 10.680356240272522,
          "x1": 10.680356240272522,
          "y0": -2.0857685267925263,
          "y1": 2.8670772552490233
         },
         {
          "line": {
           "color": "#9E9E9E",
           "width": 2
          },
          "type": "line",
          "x0": 7.450194358825684,
          "x1": 13.91051812171936,
          "y0": 0.3906543642282485,
          "y1": 0.3906543642282485
         }
        ],
        "sliders": [
         {
          "active": 0,
          "pad": {
           "t": 50
          },
          "steps": [
           {
            "args": [
             {
              "marker.color": [
               [
                "red",
                "#B0BEC5",
                "#B0BEC5",
                "#B0BEC5",
                "#B0BEC5",
                "#B0BEC5",
                "#B0BEC5",
                "#B0BEC5",
                "#B0BEC5",
                "#B0BEC5",
                "#B0BEC5",
                "#B0BEC5",
                "#B0BEC5",
                "#B0BEC5"
               ]
              ]
             }
            ],
            "label": "Topic 0",
            "method": "update"
           },
           {
            "args": [
             {
              "marker.color": [
               [
                "#B0BEC5",
                "red",
                "#B0BEC5",
                "#B0BEC5",
                "#B0BEC5",
                "#B0BEC5",
                "#B0BEC5",
                "#B0BEC5",
                "#B0BEC5",
                "#B0BEC5",
                "#B0BEC5",
                "#B0BEC5",
                "#B0BEC5",
                "#B0BEC5"
               ]
              ]
             }
            ],
            "label": "Topic 1",
            "method": "update"
           },
           {
            "args": [
             {
              "marker.color": [
               [
                "#B0BEC5",
                "#B0BEC5",
                "red",
                "#B0BEC5",
                "#B0BEC5",
                "#B0BEC5",
                "#B0BEC5",
                "#B0BEC5",
                "#B0BEC5",
                "#B0BEC5",
                "#B0BEC5",
                "#B0BEC5",
                "#B0BEC5",
                "#B0BEC5"
               ]
              ]
             }
            ],
            "label": "Topic 2",
            "method": "update"
           },
           {
            "args": [
             {
              "marker.color": [
               [
                "#B0BEC5",
                "#B0BEC5",
                "#B0BEC5",
                "red",
                "#B0BEC5",
                "#B0BEC5",
                "#B0BEC5",
                "#B0BEC5",
                "#B0BEC5",
                "#B0BEC5",
                "#B0BEC5",
                "#B0BEC5",
                "#B0BEC5",
                "#B0BEC5"
               ]
              ]
             }
            ],
            "label": "Topic 3",
            "method": "update"
           },
           {
            "args": [
             {
              "marker.color": [
               [
                "#B0BEC5",
                "#B0BEC5",
                "#B0BEC5",
                "#B0BEC5",
                "red",
                "#B0BEC5",
                "#B0BEC5",
                "#B0BEC5",
                "#B0BEC5",
                "#B0BEC5",
                "#B0BEC5",
                "#B0BEC5",
                "#B0BEC5",
                "#B0BEC5"
               ]
              ]
             }
            ],
            "label": "Topic 4",
            "method": "update"
           },
           {
            "args": [
             {
              "marker.color": [
               [
                "#B0BEC5",
                "#B0BEC5",
                "#B0BEC5",
                "#B0BEC5",
                "#B0BEC5",
                "red",
                "#B0BEC5",
                "#B0BEC5",
                "#B0BEC5",
                "#B0BEC5",
                "#B0BEC5",
                "#B0BEC5",
                "#B0BEC5",
                "#B0BEC5"
               ]
              ]
             }
            ],
            "label": "Topic 5",
            "method": "update"
           },
           {
            "args": [
             {
              "marker.color": [
               [
                "#B0BEC5",
                "#B0BEC5",
                "#B0BEC5",
                "#B0BEC5",
                "#B0BEC5",
                "#B0BEC5",
                "red",
                "#B0BEC5",
                "#B0BEC5",
                "#B0BEC5",
                "#B0BEC5",
                "#B0BEC5",
                "#B0BEC5",
                "#B0BEC5"
               ]
              ]
             }
            ],
            "label": "Topic 6",
            "method": "update"
           },
           {
            "args": [
             {
              "marker.color": [
               [
                "#B0BEC5",
                "#B0BEC5",
                "#B0BEC5",
                "#B0BEC5",
                "#B0BEC5",
                "#B0BEC5",
                "#B0BEC5",
                "red",
                "#B0BEC5",
                "#B0BEC5",
                "#B0BEC5",
                "#B0BEC5",
                "#B0BEC5",
                "#B0BEC5"
               ]
              ]
             }
            ],
            "label": "Topic 7",
            "method": "update"
           },
           {
            "args": [
             {
              "marker.color": [
               [
                "#B0BEC5",
                "#B0BEC5",
                "#B0BEC5",
                "#B0BEC5",
                "#B0BEC5",
                "#B0BEC5",
                "#B0BEC5",
                "#B0BEC5",
                "red",
                "#B0BEC5",
                "#B0BEC5",
                "#B0BEC5",
                "#B0BEC5",
                "#B0BEC5"
               ]
              ]
             }
            ],
            "label": "Topic 8",
            "method": "update"
           },
           {
            "args": [
             {
              "marker.color": [
               [
                "#B0BEC5",
                "#B0BEC5",
                "#B0BEC5",
                "#B0BEC5",
                "#B0BEC5",
                "#B0BEC5",
                "#B0BEC5",
                "#B0BEC5",
                "#B0BEC5",
                "red",
                "#B0BEC5",
                "#B0BEC5",
                "#B0BEC5",
                "#B0BEC5"
               ]
              ]
             }
            ],
            "label": "Topic 9",
            "method": "update"
           },
           {
            "args": [
             {
              "marker.color": [
               [
                "#B0BEC5",
                "#B0BEC5",
                "#B0BEC5",
                "#B0BEC5",
                "#B0BEC5",
                "#B0BEC5",
                "#B0BEC5",
                "#B0BEC5",
                "#B0BEC5",
                "#B0BEC5",
                "red",
                "#B0BEC5",
                "#B0BEC5",
                "#B0BEC5"
               ]
              ]
             }
            ],
            "label": "Topic 10",
            "method": "update"
           },
           {
            "args": [
             {
              "marker.color": [
               [
                "#B0BEC5",
                "#B0BEC5",
                "#B0BEC5",
                "#B0BEC5",
                "#B0BEC5",
                "#B0BEC5",
                "#B0BEC5",
                "#B0BEC5",
                "#B0BEC5",
                "#B0BEC5",
                "#B0BEC5",
                "red",
                "#B0BEC5",
                "#B0BEC5"
               ]
              ]
             }
            ],
            "label": "Topic 11",
            "method": "update"
           },
           {
            "args": [
             {
              "marker.color": [
               [
                "#B0BEC5",
                "#B0BEC5",
                "#B0BEC5",
                "#B0BEC5",
                "#B0BEC5",
                "#B0BEC5",
                "#B0BEC5",
                "#B0BEC5",
                "#B0BEC5",
                "#B0BEC5",
                "#B0BEC5",
                "#B0BEC5",
                "red",
                "#B0BEC5"
               ]
              ]
             }
            ],
            "label": "Topic 12",
            "method": "update"
           },
           {
            "args": [
             {
              "marker.color": [
               [
                "#B0BEC5",
                "#B0BEC5",
                "#B0BEC5",
                "#B0BEC5",
                "#B0BEC5",
                "#B0BEC5",
                "#B0BEC5",
                "#B0BEC5",
                "#B0BEC5",
                "#B0BEC5",
                "#B0BEC5",
                "#B0BEC5",
                "#B0BEC5",
                "red"
               ]
              ]
             }
            ],
            "label": "Topic 13",
            "method": "update"
           }
          ]
         }
        ],
        "template": {
         "data": {
          "bar": [
           {
            "error_x": {
             "color": "rgb(36,36,36)"
            },
            "error_y": {
             "color": "rgb(36,36,36)"
            },
            "marker": {
             "line": {
              "color": "white",
              "width": 0.5
             },
             "pattern": {
              "fillmode": "overlay",
              "size": 10,
              "solidity": 0.2
             }
            },
            "type": "bar"
           }
          ],
          "barpolar": [
           {
            "marker": {
             "line": {
              "color": "white",
              "width": 0.5
             },
             "pattern": {
              "fillmode": "overlay",
              "size": 10,
              "solidity": 0.2
             }
            },
            "type": "barpolar"
           }
          ],
          "carpet": [
           {
            "aaxis": {
             "endlinecolor": "rgb(36,36,36)",
             "gridcolor": "white",
             "linecolor": "white",
             "minorgridcolor": "white",
             "startlinecolor": "rgb(36,36,36)"
            },
            "baxis": {
             "endlinecolor": "rgb(36,36,36)",
             "gridcolor": "white",
             "linecolor": "white",
             "minorgridcolor": "white",
             "startlinecolor": "rgb(36,36,36)"
            },
            "type": "carpet"
           }
          ],
          "choropleth": [
           {
            "colorbar": {
             "outlinewidth": 1,
             "tickcolor": "rgb(36,36,36)",
             "ticks": "outside"
            },
            "type": "choropleth"
           }
          ],
          "contour": [
           {
            "colorbar": {
             "outlinewidth": 1,
             "tickcolor": "rgb(36,36,36)",
             "ticks": "outside"
            },
            "colorscale": [
             [
              0,
              "#440154"
             ],
             [
              0.1111111111111111,
              "#482878"
             ],
             [
              0.2222222222222222,
              "#3e4989"
             ],
             [
              0.3333333333333333,
              "#31688e"
             ],
             [
              0.4444444444444444,
              "#26828e"
             ],
             [
              0.5555555555555556,
              "#1f9e89"
             ],
             [
              0.6666666666666666,
              "#35b779"
             ],
             [
              0.7777777777777778,
              "#6ece58"
             ],
             [
              0.8888888888888888,
              "#b5de2b"
             ],
             [
              1,
              "#fde725"
             ]
            ],
            "type": "contour"
           }
          ],
          "contourcarpet": [
           {
            "colorbar": {
             "outlinewidth": 1,
             "tickcolor": "rgb(36,36,36)",
             "ticks": "outside"
            },
            "type": "contourcarpet"
           }
          ],
          "heatmap": [
           {
            "colorbar": {
             "outlinewidth": 1,
             "tickcolor": "rgb(36,36,36)",
             "ticks": "outside"
            },
            "colorscale": [
             [
              0,
              "#440154"
             ],
             [
              0.1111111111111111,
              "#482878"
             ],
             [
              0.2222222222222222,
              "#3e4989"
             ],
             [
              0.3333333333333333,
              "#31688e"
             ],
             [
              0.4444444444444444,
              "#26828e"
             ],
             [
              0.5555555555555556,
              "#1f9e89"
             ],
             [
              0.6666666666666666,
              "#35b779"
             ],
             [
              0.7777777777777778,
              "#6ece58"
             ],
             [
              0.8888888888888888,
              "#b5de2b"
             ],
             [
              1,
              "#fde725"
             ]
            ],
            "type": "heatmap"
           }
          ],
          "heatmapgl": [
           {
            "colorbar": {
             "outlinewidth": 1,
             "tickcolor": "rgb(36,36,36)",
             "ticks": "outside"
            },
            "colorscale": [
             [
              0,
              "#440154"
             ],
             [
              0.1111111111111111,
              "#482878"
             ],
             [
              0.2222222222222222,
              "#3e4989"
             ],
             [
              0.3333333333333333,
              "#31688e"
             ],
             [
              0.4444444444444444,
              "#26828e"
             ],
             [
              0.5555555555555556,
              "#1f9e89"
             ],
             [
              0.6666666666666666,
              "#35b779"
             ],
             [
              0.7777777777777778,
              "#6ece58"
             ],
             [
              0.8888888888888888,
              "#b5de2b"
             ],
             [
              1,
              "#fde725"
             ]
            ],
            "type": "heatmapgl"
           }
          ],
          "histogram": [
           {
            "marker": {
             "line": {
              "color": "white",
              "width": 0.6
             }
            },
            "type": "histogram"
           }
          ],
          "histogram2d": [
           {
            "colorbar": {
             "outlinewidth": 1,
             "tickcolor": "rgb(36,36,36)",
             "ticks": "outside"
            },
            "colorscale": [
             [
              0,
              "#440154"
             ],
             [
              0.1111111111111111,
              "#482878"
             ],
             [
              0.2222222222222222,
              "#3e4989"
             ],
             [
              0.3333333333333333,
              "#31688e"
             ],
             [
              0.4444444444444444,
              "#26828e"
             ],
             [
              0.5555555555555556,
              "#1f9e89"
             ],
             [
              0.6666666666666666,
              "#35b779"
             ],
             [
              0.7777777777777778,
              "#6ece58"
             ],
             [
              0.8888888888888888,
              "#b5de2b"
             ],
             [
              1,
              "#fde725"
             ]
            ],
            "type": "histogram2d"
           }
          ],
          "histogram2dcontour": [
           {
            "colorbar": {
             "outlinewidth": 1,
             "tickcolor": "rgb(36,36,36)",
             "ticks": "outside"
            },
            "colorscale": [
             [
              0,
              "#440154"
             ],
             [
              0.1111111111111111,
              "#482878"
             ],
             [
              0.2222222222222222,
              "#3e4989"
             ],
             [
              0.3333333333333333,
              "#31688e"
             ],
             [
              0.4444444444444444,
              "#26828e"
             ],
             [
              0.5555555555555556,
              "#1f9e89"
             ],
             [
              0.6666666666666666,
              "#35b779"
             ],
             [
              0.7777777777777778,
              "#6ece58"
             ],
             [
              0.8888888888888888,
              "#b5de2b"
             ],
             [
              1,
              "#fde725"
             ]
            ],
            "type": "histogram2dcontour"
           }
          ],
          "mesh3d": [
           {
            "colorbar": {
             "outlinewidth": 1,
             "tickcolor": "rgb(36,36,36)",
             "ticks": "outside"
            },
            "type": "mesh3d"
           }
          ],
          "parcoords": [
           {
            "line": {
             "colorbar": {
              "outlinewidth": 1,
              "tickcolor": "rgb(36,36,36)",
              "ticks": "outside"
             }
            },
            "type": "parcoords"
           }
          ],
          "pie": [
           {
            "automargin": true,
            "type": "pie"
           }
          ],
          "scatter": [
           {
            "fillpattern": {
             "fillmode": "overlay",
             "size": 10,
             "solidity": 0.2
            },
            "type": "scatter"
           }
          ],
          "scatter3d": [
           {
            "line": {
             "colorbar": {
              "outlinewidth": 1,
              "tickcolor": "rgb(36,36,36)",
              "ticks": "outside"
             }
            },
            "marker": {
             "colorbar": {
              "outlinewidth": 1,
              "tickcolor": "rgb(36,36,36)",
              "ticks": "outside"
             }
            },
            "type": "scatter3d"
           }
          ],
          "scattercarpet": [
           {
            "marker": {
             "colorbar": {
              "outlinewidth": 1,
              "tickcolor": "rgb(36,36,36)",
              "ticks": "outside"
             }
            },
            "type": "scattercarpet"
           }
          ],
          "scattergeo": [
           {
            "marker": {
             "colorbar": {
              "outlinewidth": 1,
              "tickcolor": "rgb(36,36,36)",
              "ticks": "outside"
             }
            },
            "type": "scattergeo"
           }
          ],
          "scattergl": [
           {
            "marker": {
             "colorbar": {
              "outlinewidth": 1,
              "tickcolor": "rgb(36,36,36)",
              "ticks": "outside"
             }
            },
            "type": "scattergl"
           }
          ],
          "scattermapbox": [
           {
            "marker": {
             "colorbar": {
              "outlinewidth": 1,
              "tickcolor": "rgb(36,36,36)",
              "ticks": "outside"
             }
            },
            "type": "scattermapbox"
           }
          ],
          "scatterpolar": [
           {
            "marker": {
             "colorbar": {
              "outlinewidth": 1,
              "tickcolor": "rgb(36,36,36)",
              "ticks": "outside"
             }
            },
            "type": "scatterpolar"
           }
          ],
          "scatterpolargl": [
           {
            "marker": {
             "colorbar": {
              "outlinewidth": 1,
              "tickcolor": "rgb(36,36,36)",
              "ticks": "outside"
             }
            },
            "type": "scatterpolargl"
           }
          ],
          "scatterternary": [
           {
            "marker": {
             "colorbar": {
              "outlinewidth": 1,
              "tickcolor": "rgb(36,36,36)",
              "ticks": "outside"
             }
            },
            "type": "scatterternary"
           }
          ],
          "surface": [
           {
            "colorbar": {
             "outlinewidth": 1,
             "tickcolor": "rgb(36,36,36)",
             "ticks": "outside"
            },
            "colorscale": [
             [
              0,
              "#440154"
             ],
             [
              0.1111111111111111,
              "#482878"
             ],
             [
              0.2222222222222222,
              "#3e4989"
             ],
             [
              0.3333333333333333,
              "#31688e"
             ],
             [
              0.4444444444444444,
              "#26828e"
             ],
             [
              0.5555555555555556,
              "#1f9e89"
             ],
             [
              0.6666666666666666,
              "#35b779"
             ],
             [
              0.7777777777777778,
              "#6ece58"
             ],
             [
              0.8888888888888888,
              "#b5de2b"
             ],
             [
              1,
              "#fde725"
             ]
            ],
            "type": "surface"
           }
          ],
          "table": [
           {
            "cells": {
             "fill": {
              "color": "rgb(237,237,237)"
             },
             "line": {
              "color": "white"
             }
            },
            "header": {
             "fill": {
              "color": "rgb(217,217,217)"
             },
             "line": {
              "color": "white"
             }
            },
            "type": "table"
           }
          ]
         },
         "layout": {
          "annotationdefaults": {
           "arrowhead": 0,
           "arrowwidth": 1
          },
          "autotypenumbers": "strict",
          "coloraxis": {
           "colorbar": {
            "outlinewidth": 1,
            "tickcolor": "rgb(36,36,36)",
            "ticks": "outside"
           }
          },
          "colorscale": {
           "diverging": [
            [
             0,
             "rgb(103,0,31)"
            ],
            [
             0.1,
             "rgb(178,24,43)"
            ],
            [
             0.2,
             "rgb(214,96,77)"
            ],
            [
             0.3,
             "rgb(244,165,130)"
            ],
            [
             0.4,
             "rgb(253,219,199)"
            ],
            [
             0.5,
             "rgb(247,247,247)"
            ],
            [
             0.6,
             "rgb(209,229,240)"
            ],
            [
             0.7,
             "rgb(146,197,222)"
            ],
            [
             0.8,
             "rgb(67,147,195)"
            ],
            [
             0.9,
             "rgb(33,102,172)"
            ],
            [
             1,
             "rgb(5,48,97)"
            ]
           ],
           "sequential": [
            [
             0,
             "#440154"
            ],
            [
             0.1111111111111111,
             "#482878"
            ],
            [
             0.2222222222222222,
             "#3e4989"
            ],
            [
             0.3333333333333333,
             "#31688e"
            ],
            [
             0.4444444444444444,
             "#26828e"
            ],
            [
             0.5555555555555556,
             "#1f9e89"
            ],
            [
             0.6666666666666666,
             "#35b779"
            ],
            [
             0.7777777777777778,
             "#6ece58"
            ],
            [
             0.8888888888888888,
             "#b5de2b"
            ],
            [
             1,
             "#fde725"
            ]
           ],
           "sequentialminus": [
            [
             0,
             "#440154"
            ],
            [
             0.1111111111111111,
             "#482878"
            ],
            [
             0.2222222222222222,
             "#3e4989"
            ],
            [
             0.3333333333333333,
             "#31688e"
            ],
            [
             0.4444444444444444,
             "#26828e"
            ],
            [
             0.5555555555555556,
             "#1f9e89"
            ],
            [
             0.6666666666666666,
             "#35b779"
            ],
            [
             0.7777777777777778,
             "#6ece58"
            ],
            [
             0.8888888888888888,
             "#b5de2b"
            ],
            [
             1,
             "#fde725"
            ]
           ]
          },
          "colorway": [
           "#1F77B4",
           "#FF7F0E",
           "#2CA02C",
           "#D62728",
           "#9467BD",
           "#8C564B",
           "#E377C2",
           "#7F7F7F",
           "#BCBD22",
           "#17BECF"
          ],
          "font": {
           "color": "rgb(36,36,36)"
          },
          "geo": {
           "bgcolor": "white",
           "lakecolor": "white",
           "landcolor": "white",
           "showlakes": true,
           "showland": true,
           "subunitcolor": "white"
          },
          "hoverlabel": {
           "align": "left"
          },
          "hovermode": "closest",
          "mapbox": {
           "style": "light"
          },
          "paper_bgcolor": "white",
          "plot_bgcolor": "white",
          "polar": {
           "angularaxis": {
            "gridcolor": "rgb(232,232,232)",
            "linecolor": "rgb(36,36,36)",
            "showgrid": false,
            "showline": true,
            "ticks": "outside"
           },
           "bgcolor": "white",
           "radialaxis": {
            "gridcolor": "rgb(232,232,232)",
            "linecolor": "rgb(36,36,36)",
            "showgrid": false,
            "showline": true,
            "ticks": "outside"
           }
          },
          "scene": {
           "xaxis": {
            "backgroundcolor": "white",
            "gridcolor": "rgb(232,232,232)",
            "gridwidth": 2,
            "linecolor": "rgb(36,36,36)",
            "showbackground": true,
            "showgrid": false,
            "showline": true,
            "ticks": "outside",
            "zeroline": false,
            "zerolinecolor": "rgb(36,36,36)"
           },
           "yaxis": {
            "backgroundcolor": "white",
            "gridcolor": "rgb(232,232,232)",
            "gridwidth": 2,
            "linecolor": "rgb(36,36,36)",
            "showbackground": true,
            "showgrid": false,
            "showline": true,
            "ticks": "outside",
            "zeroline": false,
            "zerolinecolor": "rgb(36,36,36)"
           },
           "zaxis": {
            "backgroundcolor": "white",
            "gridcolor": "rgb(232,232,232)",
            "gridwidth": 2,
            "linecolor": "rgb(36,36,36)",
            "showbackground": true,
            "showgrid": false,
            "showline": true,
            "ticks": "outside",
            "zeroline": false,
            "zerolinecolor": "rgb(36,36,36)"
           }
          },
          "shapedefaults": {
           "fillcolor": "black",
           "line": {
            "width": 0
           },
           "opacity": 0.3
          },
          "ternary": {
           "aaxis": {
            "gridcolor": "rgb(232,232,232)",
            "linecolor": "rgb(36,36,36)",
            "showgrid": false,
            "showline": true,
            "ticks": "outside"
           },
           "baxis": {
            "gridcolor": "rgb(232,232,232)",
            "linecolor": "rgb(36,36,36)",
            "showgrid": false,
            "showline": true,
            "ticks": "outside"
           },
           "bgcolor": "white",
           "caxis": {
            "gridcolor": "rgb(232,232,232)",
            "linecolor": "rgb(36,36,36)",
            "showgrid": false,
            "showline": true,
            "ticks": "outside"
           }
          },
          "title": {
           "x": 0.05
          },
          "xaxis": {
           "automargin": true,
           "gridcolor": "rgb(232,232,232)",
           "linecolor": "rgb(36,36,36)",
           "showgrid": false,
           "showline": true,
           "ticks": "outside",
           "title": {
            "standoff": 15
           },
           "zeroline": false,
           "zerolinecolor": "rgb(36,36,36)"
          },
          "yaxis": {
           "automargin": true,
           "gridcolor": "rgb(232,232,232)",
           "linecolor": "rgb(36,36,36)",
           "showgrid": false,
           "showline": true,
           "ticks": "outside",
           "title": {
            "standoff": 15
           },
           "zeroline": false,
           "zerolinecolor": "rgb(36,36,36)"
          }
         }
        },
        "title": {
         "font": {
          "color": "Black",
          "size": 22
         },
         "text": "<b>Intertopic Distance Map</b>",
         "x": 0.5,
         "xanchor": "center",
         "y": 0.95,
         "yanchor": "top"
        },
        "width": 650,
        "xaxis": {
         "anchor": "y",
         "domain": [
          0,
          1
         ],
         "range": [
          7.450194358825684,
          13.91051812171936
         ],
         "title": {
          "text": ""
         },
         "type": "linear",
         "visible": false
        },
        "yaxis": {
         "anchor": "x",
         "domain": [
          0,
          1
         ],
         "range": [
          -2.0857685267925263,
          2.8670772552490233
         ],
         "title": {
          "text": ""
         },
         "type": "linear",
         "visible": false
        }
       }
      },
      "image/png": "[encoded data removed]",
      "text/html": [
       "<div>                            <div id=\"20b21c78-e30d-4a2d-a63f-7ca41d145d6f\" class=\"plotly-graph-div\" style=\"height:650px; width:650px;\"></div>            <script type=\"text/javascript\">                require([\"plotly\"], function(Plotly) {                    window.PLOTLYENV=window.PLOTLYENV || {};                                    if (document.getElementById(\"20b21c78-e30d-4a2d-a63f-7ca41d145d6f\")) {                    Plotly.newPlot(                        \"20b21c78-e30d-4a2d-a63f-7ca41d145d6f\",                        [{\"customdata\":[[0,\"bag | heart | set | decor | of\",1410],[1,\"holder | candl | light | light holder | zinc\",287],[2,\"necklac | ear | bracelet | drop | black\",264],[3,\"set 10 | 10 | 10 card | card | tissu\",258],[4,\"girl | dolli girl | dolli | mini | spaceboy\",99],[5,\"mirror | magnet | mirror wall | wall | fridg\",92],[6,\"vintag | tin vintag | tin | vintag red | biscuit tin\",86],[7,\"cover | cushion | cushion cover | food cover | food\",70],[8,\"frame | photo | photo frame | jewel | pictur frame\",61],[9,\"sign | metal | metal sign | blue metal | french\",60],[10,\"pencil | tube | colour pencil | slate | 12\",60],[11,\"wrap | gift wrap | wrap wrap | gift | wrap vintag\",59],[12,\"wall art | art | wall | bicycl | art wall\",59],[13,\"jar | glass | storag jar | storag | jam\",52]],\"hovertemplate\":\"\\u003cb\\u003eTopic %{customdata[0]}\\u003c\\u002fb\\u003e\\u003cbr\\u003e%{customdata[1]}\\u003cbr\\u003eSize: %{customdata[2]}\",\"legendgroup\":\"\",\"marker\":{\"color\":\"#B0BEC5\",\"size\":[1410,287,264,258,99,92,86,70,61,60,60,59,59,52],\"sizemode\":\"area\",\"sizeref\":0.88125,\"symbol\":\"circle\",\"line\":{\"color\":\"DarkSlateGrey\",\"width\":2}},\"mode\":\"markers\",\"name\":\"\",\"orientation\":\"v\",\"showlegend\":false,\"x\":[12.096102714538574,11.897320747375488,11.79885482788086,9.698325157165527,10.362640380859375,11.740424156188965,11.649831771850586,11.06246566772461,9.279668807983398,11.955251693725586,10.5060453414917,8.764934539794922,10.629393577575684,11.511388778686523],\"xaxis\":\"x\",\"y\":[0.2561948895454407,2.0675208568573,-1.3050211668014526,1.8639475107192993,0.6205907464027405,2.4931106567382812,0.9277697801589966,1.7683981657028198,0.9085229635238647,-1.8137117624282837,1.2579162120819092,-0.16738267242908478,-0.0931021124124527,0.34874427318573],\"yaxis\":\"y\",\"type\":\"scatter\"}],                        {\"template\":{\"data\":{\"barpolar\":[{\"marker\":{\"line\":{\"color\":\"white\",\"width\":0.5},\"pattern\":{\"fillmode\":\"overlay\",\"size\":10,\"solidity\":0.2}},\"type\":\"barpolar\"}],\"bar\":[{\"error_x\":{\"color\":\"rgb(36,36,36)\"},\"error_y\":{\"color\":\"rgb(36,36,36)\"},\"marker\":{\"line\":{\"color\":\"white\",\"width\":0.5},\"pattern\":{\"fillmode\":\"overlay\",\"size\":10,\"solidity\":0.2}},\"type\":\"bar\"}],\"carpet\":[{\"aaxis\":{\"endlinecolor\":\"rgb(36,36,36)\",\"gridcolor\":\"white\",\"linecolor\":\"white\",\"minorgridcolor\":\"white\",\"startlinecolor\":\"rgb(36,36,36)\"},\"baxis\":{\"endlinecolor\":\"rgb(36,36,36)\",\"gridcolor\":\"white\",\"linecolor\":\"white\",\"minorgridcolor\":\"white\",\"startlinecolor\":\"rgb(36,36,36)\"},\"type\":\"carpet\"}],\"choropleth\":[{\"colorbar\":{\"outlinewidth\":1,\"tickcolor\":\"rgb(36,36,36)\",\"ticks\":\"outside\"},\"type\":\"choropleth\"}],\"contourcarpet\":[{\"colorbar\":{\"outlinewidth\":1,\"tickcolor\":\"rgb(36,36,36)\",\"ticks\":\"outside\"},\"type\":\"contourcarpet\"}],\"contour\":[{\"colorbar\":{\"outlinewidth\":1,\"tickcolor\":\"rgb(36,36,36)\",\"ticks\":\"outside\"},\"colorscale\":[[0.0,\"#440154\"],[0.1111111111111111,\"#482878\"],[0.2222222222222222,\"#3e4989\"],[0.3333333333333333,\"#31688e\"],[0.4444444444444444,\"#26828e\"],[0.5555555555555556,\"#1f9e89\"],[0.6666666666666666,\"#35b779\"],[0.7777777777777778,\"#6ece58\"],[0.8888888888888888,\"#b5de2b\"],[1.0,\"#fde725\"]],\"type\":\"contour\"}],\"heatmapgl\":[{\"colorbar\":{\"outlinewidth\":1,\"tickcolor\":\"rgb(36,36,36)\",\"ticks\":\"outside\"},\"colorscale\":[[0.0,\"#440154\"],[0.1111111111111111,\"#482878\"],[0.2222222222222222,\"#3e4989\"],[0.3333333333333333,\"#31688e\"],[0.4444444444444444,\"#26828e\"],[0.5555555555555556,\"#1f9e89\"],[0.6666666666666666,\"#35b779\"],[0.7777777777777778,\"#6ece58\"],[0.8888888888888888,\"#b5de2b\"],[1.0,\"#fde725\"]],\"type\":\"heatmapgl\"}],\"heatmap\":[{\"colorbar\":{\"outlinewidth\":1,\"tickcolor\":\"rgb(36,36,36)\",\"ticks\":\"outside\"},\"colorscale\":[[0.0,\"#440154\"],[0.1111111111111111,\"#482878\"],[0.2222222222222222,\"#3e4989\"],[0.3333333333333333,\"#31688e\"],[0.4444444444444444,\"#26828e\"],[0.5555555555555556,\"#1f9e89\"],[0.6666666666666666,\"#35b779\"],[0.7777777777777778,\"#6ece58\"],[0.8888888888888888,\"#b5de2b\"],[1.0,\"#fde725\"]],\"type\":\"heatmap\"}],\"histogram2dcontour\":[{\"colorbar\":{\"outlinewidth\":1,\"tickcolor\":\"rgb(36,36,36)\",\"ticks\":\"outside\"},\"colorscale\":[[0.0,\"#440154\"],[0.1111111111111111,\"#482878\"],[0.2222222222222222,\"#3e4989\"],[0.3333333333333333,\"#31688e\"],[0.4444444444444444,\"#26828e\"],[0.5555555555555556,\"#1f9e89\"],[0.6666666666666666,\"#35b779\"],[0.7777777777777778,\"#6ece58\"],[0.8888888888888888,\"#b5de2b\"],[1.0,\"#fde725\"]],\"type\":\"histogram2dcontour\"}],\"histogram2d\":[{\"colorbar\":{\"outlinewidth\":1,\"tickcolor\":\"rgb(36,36,36)\",\"ticks\":\"outside\"},\"colorscale\":[[0.0,\"#440154\"],[0.1111111111111111,\"#482878\"],[0.2222222222222222,\"#3e4989\"],[0.3333333333333333,\"#31688e\"],[0.4444444444444444,\"#26828e\"],[0.5555555555555556,\"#1f9e89\"],[0.6666666666666666,\"#35b779\"],[0.7777777777777778,\"#6ece58\"],[0.8888888888888888,\"#b5de2b\"],[1.0,\"#fde725\"]],\"type\":\"histogram2d\"}],\"histogram\":[{\"marker\":{\"line\":{\"color\":\"white\",\"width\":0.6}},\"type\":\"histogram\"}],\"mesh3d\":[{\"colorbar\":{\"outlinewidth\":1,\"tickcolor\":\"rgb(36,36,36)\",\"ticks\":\"outside\"},\"type\":\"mesh3d\"}],\"parcoords\":[{\"line\":{\"colorbar\":{\"outlinewidth\":1,\"tickcolor\":\"rgb(36,36,36)\",\"ticks\":\"outside\"}},\"type\":\"parcoords\"}],\"pie\":[{\"automargin\":true,\"type\":\"pie\"}],\"scatter3d\":[{\"line\":{\"colorbar\":{\"outlinewidth\":1,\"tickcolor\":\"rgb(36,36,36)\",\"ticks\":\"outside\"}},\"marker\":{\"colorbar\":{\"outlinewidth\":1,\"tickcolor\":\"rgb(36,36,36)\",\"ticks\":\"outside\"}},\"type\":\"scatter3d\"}],\"scattercarpet\":[{\"marker\":{\"colorbar\":{\"outlinewidth\":1,\"tickcolor\":\"rgb(36,36,36)\",\"ticks\":\"outside\"}},\"type\":\"scattercarpet\"}],\"scattergeo\":[{\"marker\":{\"colorbar\":{\"outlinewidth\":1,\"tickcolor\":\"rgb(36,36,36)\",\"ticks\":\"outside\"}},\"type\":\"scattergeo\"}],\"scattergl\":[{\"marker\":{\"colorbar\":{\"outlinewidth\":1,\"tickcolor\":\"rgb(36,36,36)\",\"ticks\":\"outside\"}},\"type\":\"scattergl\"}],\"scattermapbox\":[{\"marker\":{\"colorbar\":{\"outlinewidth\":1,\"tickcolor\":\"rgb(36,36,36)\",\"ticks\":\"outside\"}},\"type\":\"scattermapbox\"}],\"scatterpolargl\":[{\"marker\":{\"colorbar\":{\"outlinewidth\":1,\"tickcolor\":\"rgb(36,36,36)\",\"ticks\":\"outside\"}},\"type\":\"scatterpolargl\"}],\"scatterpolar\":[{\"marker\":{\"colorbar\":{\"outlinewidth\":1,\"tickcolor\":\"rgb(36,36,36)\",\"ticks\":\"outside\"}},\"type\":\"scatterpolar\"}],\"scatter\":[{\"fillpattern\":{\"fillmode\":\"overlay\",\"size\":10,\"solidity\":0.2},\"type\":\"scatter\"}],\"scatterternary\":[{\"marker\":{\"colorbar\":{\"outlinewidth\":1,\"tickcolor\":\"rgb(36,36,36)\",\"ticks\":\"outside\"}},\"type\":\"scatterternary\"}],\"surface\":[{\"colorbar\":{\"outlinewidth\":1,\"tickcolor\":\"rgb(36,36,36)\",\"ticks\":\"outside\"},\"colorscale\":[[0.0,\"#440154\"],[0.1111111111111111,\"#482878\"],[0.2222222222222222,\"#3e4989\"],[0.3333333333333333,\"#31688e\"],[0.4444444444444444,\"#26828e\"],[0.5555555555555556,\"#1f9e89\"],[0.6666666666666666,\"#35b779\"],[0.7777777777777778,\"#6ece58\"],[0.8888888888888888,\"#b5de2b\"],[1.0,\"#fde725\"]],\"type\":\"surface\"}],\"table\":[{\"cells\":{\"fill\":{\"color\":\"rgb(237,237,237)\"},\"line\":{\"color\":\"white\"}},\"header\":{\"fill\":{\"color\":\"rgb(217,217,217)\"},\"line\":{\"color\":\"white\"}},\"type\":\"table\"}]},\"layout\":{\"annotationdefaults\":{\"arrowhead\":0,\"arrowwidth\":1},\"autotypenumbers\":\"strict\",\"coloraxis\":{\"colorbar\":{\"outlinewidth\":1,\"tickcolor\":\"rgb(36,36,36)\",\"ticks\":\"outside\"}},\"colorscale\":{\"diverging\":[[0.0,\"rgb(103,0,31)\"],[0.1,\"rgb(178,24,43)\"],[0.2,\"rgb(214,96,77)\"],[0.3,\"rgb(244,165,130)\"],[0.4,\"rgb(253,219,199)\"],[0.5,\"rgb(247,247,247)\"],[0.6,\"rgb(209,229,240)\"],[0.7,\"rgb(146,197,222)\"],[0.8,\"rgb(67,147,195)\"],[0.9,\"rgb(33,102,172)\"],[1.0,\"rgb(5,48,97)\"]],\"sequential\":[[0.0,\"#440154\"],[0.1111111111111111,\"#482878\"],[0.2222222222222222,\"#3e4989\"],[0.3333333333333333,\"#31688e\"],[0.4444444444444444,\"#26828e\"],[0.5555555555555556,\"#1f9e89\"],[0.6666666666666666,\"#35b779\"],[0.7777777777777778,\"#6ece58\"],[0.8888888888888888,\"#b5de2b\"],[1.0,\"#fde725\"]],\"sequentialminus\":[[0.0,\"#440154\"],[0.1111111111111111,\"#482878\"],[0.2222222222222222,\"#3e4989\"],[0.3333333333333333,\"#31688e\"],[0.4444444444444444,\"#26828e\"],[0.5555555555555556,\"#1f9e89\"],[0.6666666666666666,\"#35b779\"],[0.7777777777777778,\"#6ece58\"],[0.8888888888888888,\"#b5de2b\"],[1.0,\"#fde725\"]]},\"colorway\":[\"#1F77B4\",\"#FF7F0E\",\"#2CA02C\",\"#D62728\",\"#9467BD\",\"#8C564B\",\"#E377C2\",\"#7F7F7F\",\"#BCBD22\",\"#17BECF\"],\"font\":{\"color\":\"rgb(36,36,36)\"},\"geo\":{\"bgcolor\":\"white\",\"lakecolor\":\"white\",\"landcolor\":\"white\",\"showlakes\":true,\"showland\":true,\"subunitcolor\":\"white\"},\"hoverlabel\":{\"align\":\"left\"},\"hovermode\":\"closest\",\"mapbox\":{\"style\":\"light\"},\"paper_bgcolor\":\"white\",\"plot_bgcolor\":\"white\",\"polar\":{\"angularaxis\":{\"gridcolor\":\"rgb(232,232,232)\",\"linecolor\":\"rgb(36,36,36)\",\"showgrid\":false,\"showline\":true,\"ticks\":\"outside\"},\"bgcolor\":\"white\",\"radialaxis\":{\"gridcolor\":\"rgb(232,232,232)\",\"linecolor\":\"rgb(36,36,36)\",\"showgrid\":false,\"showline\":true,\"ticks\":\"outside\"}},\"scene\":{\"xaxis\":{\"backgroundcolor\":\"white\",\"gridcolor\":\"rgb(232,232,232)\",\"gridwidth\":2,\"linecolor\":\"rgb(36,36,36)\",\"showbackground\":true,\"showgrid\":false,\"showline\":true,\"ticks\":\"outside\",\"zeroline\":false,\"zerolinecolor\":\"rgb(36,36,36)\"},\"yaxis\":{\"backgroundcolor\":\"white\",\"gridcolor\":\"rgb(232,232,232)\",\"gridwidth\":2,\"linecolor\":\"rgb(36,36,36)\",\"showbackground\":true,\"showgrid\":false,\"showline\":true,\"ticks\":\"outside\",\"zeroline\":false,\"zerolinecolor\":\"rgb(36,36,36)\"},\"zaxis\":{\"backgroundcolor\":\"white\",\"gridcolor\":\"rgb(232,232,232)\",\"gridwidth\":2,\"linecolor\":\"rgb(36,36,36)\",\"showbackground\":true,\"showgrid\":false,\"showline\":true,\"ticks\":\"outside\",\"zeroline\":false,\"zerolinecolor\":\"rgb(36,36,36)\"}},\"shapedefaults\":{\"fillcolor\":\"black\",\"line\":{\"width\":0},\"opacity\":0.3},\"ternary\":{\"aaxis\":{\"gridcolor\":\"rgb(232,232,232)\",\"linecolor\":\"rgb(36,36,36)\",\"showgrid\":false,\"showline\":true,\"ticks\":\"outside\"},\"baxis\":{\"gridcolor\":\"rgb(232,232,232)\",\"linecolor\":\"rgb(36,36,36)\",\"showgrid\":false,\"showline\":true,\"ticks\":\"outside\"},\"bgcolor\":\"white\",\"caxis\":{\"gridcolor\":\"rgb(232,232,232)\",\"linecolor\":\"rgb(36,36,36)\",\"showgrid\":false,\"showline\":true,\"ticks\":\"outside\"}},\"title\":{\"x\":0.05},\"xaxis\":{\"automargin\":true,\"gridcolor\":\"rgb(232,232,232)\",\"linecolor\":\"rgb(36,36,36)\",\"showgrid\":false,\"showline\":true,\"ticks\":\"outside\",\"title\":{\"standoff\":15},\"zeroline\":false,\"zerolinecolor\":\"rgb(36,36,36)\"},\"yaxis\":{\"automargin\":true,\"gridcolor\":\"rgb(232,232,232)\",\"linecolor\":\"rgb(36,36,36)\",\"showgrid\":false,\"showline\":true,\"ticks\":\"outside\",\"title\":{\"standoff\":15},\"zeroline\":false,\"zerolinecolor\":\"rgb(36,36,36)\"}}},\"xaxis\":{\"anchor\":\"y\",\"domain\":[0.0,1.0],\"title\":{\"text\":\"\"},\"visible\":false,\"range\":[7.450194358825684,13.91051812171936]},\"yaxis\":{\"anchor\":\"x\",\"domain\":[0.0,1.0],\"title\":{\"text\":\"\"},\"visible\":false,\"range\":[-2.0857685267925263,2.8670772552490233]},\"legend\":{\"tracegroupgap\":0,\"itemsizing\":\"constant\"},\"margin\":{\"t\":60},\"title\":{\"font\":{\"size\":22,\"color\":\"Black\"},\"text\":\"\\u003cb\\u003eIntertopic Distance Map\\u003c\\u002fb\\u003e\",\"y\":0.95,\"x\":0.5,\"xanchor\":\"center\",\"yanchor\":\"top\"},\"hoverlabel\":{\"font\":{\"size\":16,\"family\":\"Rockwell\"},\"bgcolor\":\"white\"},\"width\":650,\"height\":650,\"sliders\":[{\"active\":0,\"pad\":{\"t\":50},\"steps\":[{\"args\":[{\"marker.color\":[[\"red\",\"#B0BEC5\",\"#B0BEC5\",\"#B0BEC5\",\"#B0BEC5\",\"#B0BEC5\",\"#B0BEC5\",\"#B0BEC5\",\"#B0BEC5\",\"#B0BEC5\",\"#B0BEC5\",\"#B0BEC5\",\"#B0BEC5\",\"#B0BEC5\"]]}],\"label\":\"Topic 0\",\"method\":\"update\"},{\"args\":[{\"marker.color\":[[\"#B0BEC5\",\"red\",\"#B0BEC5\",\"#B0BEC5\",\"#B0BEC5\",\"#B0BEC5\",\"#B0BEC5\",\"#B0BEC5\",\"#B0BEC5\",\"#B0BEC5\",\"#B0BEC5\",\"#B0BEC5\",\"#B0BEC5\",\"#B0BEC5\"]]}],\"label\":\"Topic 1\",\"method\":\"update\"},{\"args\":[{\"marker.color\":[[\"#B0BEC5\",\"#B0BEC5\",\"red\",\"#B0BEC5\",\"#B0BEC5\",\"#B0BEC5\",\"#B0BEC5\",\"#B0BEC5\",\"#B0BEC5\",\"#B0BEC5\",\"#B0BEC5\",\"#B0BEC5\",\"#B0BEC5\",\"#B0BEC5\"]]}],\"label\":\"Topic 2\",\"method\":\"update\"},{\"args\":[{\"marker.color\":[[\"#B0BEC5\",\"#B0BEC5\",\"#B0BEC5\",\"red\",\"#B0BEC5\",\"#B0BEC5\",\"#B0BEC5\",\"#B0BEC5\",\"#B0BEC5\",\"#B0BEC5\",\"#B0BEC5\",\"#B0BEC5\",\"#B0BEC5\",\"#B0BEC5\"]]}],\"label\":\"Topic 3\",\"method\":\"update\"},{\"args\":[{\"marker.color\":[[\"#B0BEC5\",\"#B0BEC5\",\"#B0BEC5\",\"#B0BEC5\",\"red\",\"#B0BEC5\",\"#B0BEC5\",\"#B0BEC5\",\"#B0BEC5\",\"#B0BEC5\",\"#B0BEC5\",\"#B0BEC5\",\"#B0BEC5\",\"#B0BEC5\"]]}],\"label\":\"Topic 4\",\"method\":\"update\"},{\"args\":[{\"marker.color\":[[\"#B0BEC5\",\"#B0BEC5\",\"#B0BEC5\",\"#B0BEC5\",\"#B0BEC5\",\"red\",\"#B0BEC5\",\"#B0BEC5\",\"#B0BEC5\",\"#B0BEC5\",\"#B0BEC5\",\"#B0BEC5\",\"#B0BEC5\",\"#B0BEC5\"]]}],\"label\":\"Topic 5\",\"method\":\"update\"},{\"args\":[{\"marker.color\":[[\"#B0BEC5\",\"#B0BEC5\",\"#B0BEC5\",\"#B0BEC5\",\"#B0BEC5\",\"#B0BEC5\",\"red\",\"#B0BEC5\",\"#B0BEC5\",\"#B0BEC5\",\"#B0BEC5\",\"#B0BEC5\",\"#B0BEC5\",\"#B0BEC5\"]]}],\"label\":\"Topic 6\",\"method\":\"update\"},{\"args\":[{\"marker.color\":[[\"#B0BEC5\",\"#B0BEC5\",\"#B0BEC5\",\"#B0BEC5\",\"#B0BEC5\",\"#B0BEC5\",\"#B0BEC5\",\"red\",\"#B0BEC5\",\"#B0BEC5\",\"#B0BEC5\",\"#B0BEC5\",\"#B0BEC5\",\"#B0BEC5\"]]}],\"label\":\"Topic 7\",\"method\":\"update\"},{\"args\":[{\"marker.color\":[[\"#B0BEC5\",\"#B0BEC5\",\"#B0BEC5\",\"#B0BEC5\",\"#B0BEC5\",\"#B0BEC5\",\"#B0BEC5\",\"#B0BEC5\",\"red\",\"#B0BEC5\",\"#B0BEC5\",\"#B0BEC5\",\"#B0BEC5\",\"#B0BEC5\"]]}],\"label\":\"Topic 8\",\"method\":\"update\"},{\"args\":[{\"marker.color\":[[\"#B0BEC5\",\"#B0BEC5\",\"#B0BEC5\",\"#B0BEC5\",\"#B0BEC5\",\"#B0BEC5\",\"#B0BEC5\",\"#B0BEC5\",\"#B0BEC5\",\"red\",\"#B0BEC5\",\"#B0BEC5\",\"#B0BEC5\",\"#B0BEC5\"]]}],\"label\":\"Topic 9\",\"method\":\"update\"},{\"args\":[{\"marker.color\":[[\"#B0BEC5\",\"#B0BEC5\",\"#B0BEC5\",\"#B0BEC5\",\"#B0BEC5\",\"#B0BEC5\",\"#B0BEC5\",\"#B0BEC5\",\"#B0BEC5\",\"#B0BEC5\",\"red\",\"#B0BEC5\",\"#B0BEC5\",\"#B0BEC5\"]]}],\"label\":\"Topic 10\",\"method\":\"update\"},{\"args\":[{\"marker.color\":[[\"#B0BEC5\",\"#B0BEC5\",\"#B0BEC5\",\"#B0BEC5\",\"#B0BEC5\",\"#B0BEC5\",\"#B0BEC5\",\"#B0BEC5\",\"#B0BEC5\",\"#B0BEC5\",\"#B0BEC5\",\"red\",\"#B0BEC5\",\"#B0BEC5\"]]}],\"label\":\"Topic 11\",\"method\":\"update\"},{\"args\":[{\"marker.color\":[[\"#B0BEC5\",\"#B0BEC5\",\"#B0BEC5\",\"#B0BEC5\",\"#B0BEC5\",\"#B0BEC5\",\"#B0BEC5\",\"#B0BEC5\",\"#B0BEC5\",\"#B0BEC5\",\"#B0BEC5\",\"#B0BEC5\",\"red\",\"#B0BEC5\"]]}],\"label\":\"Topic 12\",\"method\":\"update\"},{\"args\":[{\"marker.color\":[[\"#B0BEC5\",\"#B0BEC5\",\"#B0BEC5\",\"#B0BEC5\",\"#B0BEC5\",\"#B0BEC5\",\"#B0BEC5\",\"#B0BEC5\",\"#B0BEC5\",\"#B0BEC5\",\"#B0BEC5\",\"#B0BEC5\",\"#B0BEC5\",\"red\"]]}],\"label\":\"Topic 13\",\"method\":\"update\"}]}],\"shapes\":[{\"line\":{\"color\":\"#CFD8DC\",\"width\":2},\"type\":\"line\",\"x0\":10.680356240272522,\"x1\":10.680356240272522,\"y0\":-2.0857685267925263,\"y1\":2.8670772552490233},{\"line\":{\"color\":\"#9E9E9E\",\"width\":2},\"type\":\"line\",\"x0\":7.450194358825684,\"x1\":13.91051812171936,\"y0\":0.3906543642282485,\"y1\":0.3906543642282485}],\"annotations\":[{\"showarrow\":false,\"text\":\"D1\",\"x\":7.450194358825684,\"y\":0.3906543642282485,\"yshift\":10},{\"showarrow\":false,\"text\":\"D2\",\"x\":10.680356240272522,\"xshift\":10,\"y\":2.8670772552490233}]},                        {\"responsive\": true}                    ).then(function(){\n",
       "                            \n",
       "var gd = document.getElementById('20b21c78-e30d-4a2d-a63f-7ca41d145d6f');\n",
       "var x = new MutationObserver(function (mutations, observer) {{\n",
       "        var display = window.getComputedStyle(gd).display;\n",
       "        if (!display || display === 'none') {{\n",
       "            console.log([gd, 'removed!']);\n",
       "            Plotly.purge(gd);\n",
       "            observer.disconnect();\n",
       "        }}\n",
       "}});\n",
       "\n",
       "// Listen for the removal of the full notebook cells\n",
       "var notebookContainer = gd.closest('#notebook-container');\n",
       "if (notebookContainer) {{\n",
       "    x.observe(notebookContainer, {childList: true});\n",
       "}}\n",
       "\n",
       "// Listen for the clearing of the current output cell\n",
       "var outputEl = gd.closest('.output');\n",
       "if (outputEl) {{\n",
       "    x.observe(outputEl, {childList: true});\n",
       "}}\n",
       "\n",
       "                        })                };                });            </script>        </div>"
      ]
     },
     "metadata": {},
     "output_type": "display_data"
    }
   ],
   "source": [
    "topic_model.visualize_topics() "
   ]
  },
  {
   "cell_type": "code",
   "execution_count": 220,
   "id": "a2b09322-43c0-4b75-94c3-bbd4d4442d45",
   "metadata": {},
   "outputs": [
    {
     "name": "stderr",
     "output_type": "stream",
     "text": [
      "2024-08-28 12:21:41,371 - BERTopic - WARNING: When you use `pickle` to save/load a BERTopic model,please make sure that the environments in which you saveand load the model are **exactly** the same. The version of BERTopic,its dependencies, and python need to remain the same.\n"
     ]
    }
   ],
   "source": [
    "# Saving the model\n",
    "topic_model.save(\"category_model\")"
   ]
  },
  {
   "cell_type": "markdown",
   "id": "3e0630d7-a795-4b49-9781-e0770301bd44",
   "metadata": {},
   "source": [
    "<h2>Preprocessing</h2>"
   ]
  },
  {
   "cell_type": "code",
   "execution_count": 221,
   "id": "2ca0ac40-c529-4e97-b6ce-e724c0ff8134",
   "metadata": {},
   "outputs": [],
   "source": [
    "# Loading the category model\n",
    "my_model = BERTopic.load(\"category_model\")"
   ]
  },
  {
   "cell_type": "code",
   "execution_count": 222,
   "id": "3fa50769-12ac-4555-8471-5f7c308eddd5",
   "metadata": {},
   "outputs": [],
   "source": [
    "products_list = products_df.drop('categories', axis = 1)\n",
    "products_list = products_df.drop('stemmed_words', axis = 1)"
   ]
  },
  {
   "cell_type": "code",
   "execution_count": 223,
   "id": "e0ec9dda-0493-4347-aad0-6db608c24754",
   "metadata": {},
   "outputs": [],
   "source": [
    "products_list['Category'] = topics"
   ]
  },
  {
   "cell_type": "code",
   "execution_count": 224,
   "id": "7a621a44-6a5e-485f-a950-9fbb9c438372",
   "metadata": {},
   "outputs": [
    {
     "data": {
      "text/html": [
       "<div>\n",
       "<style scoped>\n",
       "    .dataframe tbody tr th:only-of-type {\n",
       "        vertical-align: middle;\n",
       "    }\n",
       "\n",
       "    .dataframe tbody tr th {\n",
       "        vertical-align: top;\n",
       "    }\n",
       "\n",
       "    .dataframe thead th {\n",
       "        text-align: right;\n",
       "    }\n",
       "</style>\n",
       "<table border=\"1\" class=\"dataframe\">\n",
       "  <thead>\n",
       "    <tr style=\"text-align: right;\">\n",
       "      <th></th>\n",
       "      <th>products</th>\n",
       "      <th>Category</th>\n",
       "    </tr>\n",
       "  </thead>\n",
       "  <tbody>\n",
       "    <tr>\n",
       "      <th>0</th>\n",
       "      <td>white hanging heart t light holder</td>\n",
       "      <td>1</td>\n",
       "    </tr>\n",
       "    <tr>\n",
       "      <th>1</th>\n",
       "      <td>white metal lantern</td>\n",
       "      <td>-1</td>\n",
       "    </tr>\n",
       "    <tr>\n",
       "      <th>2</th>\n",
       "      <td>cream cupid hearts coat hanger</td>\n",
       "      <td>0</td>\n",
       "    </tr>\n",
       "    <tr>\n",
       "      <th>3</th>\n",
       "      <td>knitted union flag hot water bottle</td>\n",
       "      <td>-1</td>\n",
       "    </tr>\n",
       "    <tr>\n",
       "      <th>4</th>\n",
       "      <td>red woolly hottie white heart</td>\n",
       "      <td>0</td>\n",
       "    </tr>\n",
       "    <tr>\n",
       "      <th>...</th>\n",
       "      <td>...</td>\n",
       "      <td>...</td>\n",
       "    </tr>\n",
       "    <tr>\n",
       "      <th>4162</th>\n",
       "      <td>set of 6 ribbons party</td>\n",
       "      <td>-1</td>\n",
       "    </tr>\n",
       "    <tr>\n",
       "      <th>4163</th>\n",
       "      <td>set 10 cards snowy robin 17099</td>\n",
       "      <td>3</td>\n",
       "    </tr>\n",
       "    <tr>\n",
       "      <th>4164</th>\n",
       "      <td>lost in space</td>\n",
       "      <td>4</td>\n",
       "    </tr>\n",
       "    <tr>\n",
       "      <th>4165</th>\n",
       "      <td>set 10 cards swirly xmas tree 17104</td>\n",
       "      <td>3</td>\n",
       "    </tr>\n",
       "    <tr>\n",
       "      <th>4166</th>\n",
       "      <td>wet</td>\n",
       "      <td>3</td>\n",
       "    </tr>\n",
       "  </tbody>\n",
       "</table>\n",
       "<p>4167 rows × 2 columns</p>\n",
       "</div>"
      ],
      "text/plain": [
       "                                 products  Category\n",
       "0      white hanging heart t light holder         1\n",
       "1                     white metal lantern        -1\n",
       "2          cream cupid hearts coat hanger         0\n",
       "3     knitted union flag hot water bottle        -1\n",
       "4           red woolly hottie white heart         0\n",
       "...                                   ...       ...\n",
       "4162               set of 6 ribbons party        -1\n",
       "4163       set 10 cards snowy robin 17099         3\n",
       "4164                        lost in space         4\n",
       "4165  set 10 cards swirly xmas tree 17104         3\n",
       "4166                                  wet         3\n",
       "\n",
       "[4167 rows x 2 columns]"
      ]
     },
     "execution_count": 224,
     "metadata": {},
     "output_type": "execute_result"
    }
   ],
   "source": [
    "products_list.drop(columns = 'categories', axis = 1)"
   ]
  },
  {
   "cell_type": "code",
   "execution_count": 225,
   "id": "65da3c8c-c516-43fc-bc71-c70b354fe3fe",
   "metadata": {},
   "outputs": [],
   "source": [
    "merged_df = pd.merge(sales_df, products_list, left_on='Description', right_on='products', how='left')"
   ]
  },
  {
   "cell_type": "code",
   "execution_count": 226,
   "id": "effe0894-d111-4ff3-8bda-968e472b04c2",
   "metadata": {},
   "outputs": [
    {
     "data": {
      "text/html": [
       "<div>\n",
       "<style scoped>\n",
       "    .dataframe tbody tr th:only-of-type {\n",
       "        vertical-align: middle;\n",
       "    }\n",
       "\n",
       "    .dataframe tbody tr th {\n",
       "        vertical-align: top;\n",
       "    }\n",
       "\n",
       "    .dataframe thead th {\n",
       "        text-align: right;\n",
       "    }\n",
       "</style>\n",
       "<table border=\"1\" class=\"dataframe\">\n",
       "  <thead>\n",
       "    <tr style=\"text-align: right;\">\n",
       "      <th></th>\n",
       "      <th>InvoiceNo</th>\n",
       "      <th>StockCode</th>\n",
       "      <th>Description</th>\n",
       "      <th>Quantity</th>\n",
       "      <th>InvoiceDate</th>\n",
       "      <th>UnitPrice</th>\n",
       "      <th>CustomerID</th>\n",
       "      <th>Country</th>\n",
       "      <th>Months</th>\n",
       "      <th>DayOfMonth</th>\n",
       "      <th>DayOfWeek</th>\n",
       "      <th>WeekOfYear</th>\n",
       "      <th>CustomerPerProduct</th>\n",
       "      <th>products</th>\n",
       "      <th>categories</th>\n",
       "      <th>Category</th>\n",
       "    </tr>\n",
       "  </thead>\n",
       "  <tbody>\n",
       "    <tr>\n",
       "      <th>0</th>\n",
       "      <td>536365</td>\n",
       "      <td>85123A</td>\n",
       "      <td>white hanging heart t light holder</td>\n",
       "      <td>6</td>\n",
       "      <td>2010-12-01 08:26:00</td>\n",
       "      <td>2.55</td>\n",
       "      <td>17850.0</td>\n",
       "      <td>United Kingdom</td>\n",
       "      <td>12</td>\n",
       "      <td>1</td>\n",
       "      <td>2</td>\n",
       "      <td>0</td>\n",
       "      <td>1693.0</td>\n",
       "      <td>white hanging heart t light holder</td>\n",
       "      <td>0</td>\n",
       "      <td>1</td>\n",
       "    </tr>\n",
       "    <tr>\n",
       "      <th>1</th>\n",
       "      <td>536365</td>\n",
       "      <td>71053</td>\n",
       "      <td>white metal lantern</td>\n",
       "      <td>6</td>\n",
       "      <td>2010-12-01 08:26:00</td>\n",
       "      <td>3.39</td>\n",
       "      <td>17850.0</td>\n",
       "      <td>United Kingdom</td>\n",
       "      <td>12</td>\n",
       "      <td>1</td>\n",
       "      <td>2</td>\n",
       "      <td>0</td>\n",
       "      <td>1693.0</td>\n",
       "      <td>white metal lantern</td>\n",
       "      <td>0</td>\n",
       "      <td>-1</td>\n",
       "    </tr>\n",
       "    <tr>\n",
       "      <th>2</th>\n",
       "      <td>536365</td>\n",
       "      <td>84406B</td>\n",
       "      <td>cream cupid hearts coat hanger</td>\n",
       "      <td>8</td>\n",
       "      <td>2010-12-01 08:26:00</td>\n",
       "      <td>2.75</td>\n",
       "      <td>17850.0</td>\n",
       "      <td>United Kingdom</td>\n",
       "      <td>12</td>\n",
       "      <td>1</td>\n",
       "      <td>2</td>\n",
       "      <td>0</td>\n",
       "      <td>1693.0</td>\n",
       "      <td>cream cupid hearts coat hanger</td>\n",
       "      <td>3</td>\n",
       "      <td>0</td>\n",
       "    </tr>\n",
       "    <tr>\n",
       "      <th>3</th>\n",
       "      <td>536365</td>\n",
       "      <td>84029G</td>\n",
       "      <td>knitted union flag hot water bottle</td>\n",
       "      <td>6</td>\n",
       "      <td>2010-12-01 08:26:00</td>\n",
       "      <td>3.39</td>\n",
       "      <td>17850.0</td>\n",
       "      <td>United Kingdom</td>\n",
       "      <td>12</td>\n",
       "      <td>1</td>\n",
       "      <td>2</td>\n",
       "      <td>0</td>\n",
       "      <td>1693.0</td>\n",
       "      <td>knitted union flag hot water bottle</td>\n",
       "      <td>3</td>\n",
       "      <td>-1</td>\n",
       "    </tr>\n",
       "    <tr>\n",
       "      <th>4</th>\n",
       "      <td>536365</td>\n",
       "      <td>84029E</td>\n",
       "      <td>red woolly hottie white heart</td>\n",
       "      <td>6</td>\n",
       "      <td>2010-12-01 08:26:00</td>\n",
       "      <td>3.39</td>\n",
       "      <td>17850.0</td>\n",
       "      <td>United Kingdom</td>\n",
       "      <td>12</td>\n",
       "      <td>1</td>\n",
       "      <td>2</td>\n",
       "      <td>0</td>\n",
       "      <td>1693.0</td>\n",
       "      <td>red woolly hottie white heart</td>\n",
       "      <td>3</td>\n",
       "      <td>0</td>\n",
       "    </tr>\n",
       "  </tbody>\n",
       "</table>\n",
       "</div>"
      ],
      "text/plain": [
       "  InvoiceNo StockCode                          Description  Quantity  \\\n",
       "0    536365    85123A   white hanging heart t light holder         6   \n",
       "1    536365     71053                  white metal lantern         6   \n",
       "2    536365    84406B       cream cupid hearts coat hanger         8   \n",
       "3    536365    84029G  knitted union flag hot water bottle         6   \n",
       "4    536365    84029E        red woolly hottie white heart         6   \n",
       "\n",
       "           InvoiceDate  UnitPrice  CustomerID         Country  Months  \\\n",
       "0  2010-12-01 08:26:00       2.55     17850.0  United Kingdom      12   \n",
       "1  2010-12-01 08:26:00       3.39     17850.0  United Kingdom      12   \n",
       "2  2010-12-01 08:26:00       2.75     17850.0  United Kingdom      12   \n",
       "3  2010-12-01 08:26:00       3.39     17850.0  United Kingdom      12   \n",
       "4  2010-12-01 08:26:00       3.39     17850.0  United Kingdom      12   \n",
       "\n",
       "   DayOfMonth  DayOfWeek  WeekOfYear  CustomerPerProduct  \\\n",
       "0           1          2           0              1693.0   \n",
       "1           1          2           0              1693.0   \n",
       "2           1          2           0              1693.0   \n",
       "3           1          2           0              1693.0   \n",
       "4           1          2           0              1693.0   \n",
       "\n",
       "                              products  categories  Category  \n",
       "0   white hanging heart t light holder           0         1  \n",
       "1                  white metal lantern           0        -1  \n",
       "2       cream cupid hearts coat hanger           3         0  \n",
       "3  knitted union flag hot water bottle           3        -1  \n",
       "4        red woolly hottie white heart           3         0  "
      ]
     },
     "execution_count": 226,
     "metadata": {},
     "output_type": "execute_result"
    }
   ],
   "source": [
    "merged_df.head()"
   ]
  },
  {
   "cell_type": "code",
   "execution_count": 227,
   "id": "05644f78-87e4-4889-b0d0-7f0b8da7d6c5",
   "metadata": {},
   "outputs": [],
   "source": [
    "#Building preprocessing pipeline\n",
    "\n",
    "class RemoveNegatives(BaseEstimator, TransformerMixin):\n",
    "    def fit(self, X, y=None):\n",
    "        return self\n",
    "                  \n",
    "    def transform(self, X):\n",
    "        X = X[X['Quantity'] >0]\n",
    "        return X\n",
    "\n",
    "class CreateFeature(BaseEstimator, TransformerMixin):\n",
    "    def fit(self, X, y=None):\n",
    "        return self\n",
    "                  \n",
    "    def transform(self, X):\n",
    "        n = pd.DataFrame(X.groupby('Category')['CustomerPerProduct'].sum())\n",
    "        n = n.reset_index()\n",
    "        n.rename(columns = {'CustomerPerProduct': 'CustomerPerCategory'}, inplace = True)\n",
    "        X = X.merge(n, how='left', left_on='Category', right_on='Category')\n",
    "        return X   \n",
    "    \n",
    "class ProcessDates(BaseEstimator, TransformerMixin):\n",
    "    def fit(self, X, y=None):\n",
    "        return self\n",
    "                  \n",
    "    def transform(self, X):\n",
    "        if 'InvoiceDate' in X.columns:\n",
    "            X['InvoiceDate'] = pd.to_datetime(X['InvoiceDate'])\n",
    "            start_date =  pd.to_datetime('2011-01-04 08:00:00')\n",
    "            X['WeekOfYear'] = (((X['InvoiceDate'] - start_date).dt.days)/7).astype(int)\n",
    "            X['WeekStartDate'] = X['InvoiceDate'] - pd.to_timedelta(X['InvoiceDate'].dt.dayofweek, unit='D')\n",
    "            X['WeekStartDate'] = X['WeekStartDate'].dt.date\n",
    "            X = X[X['WeekOfYear'] >0]\n",
    "        else:\n",
    "            print(\"Error: 'InvoiceDate' column not found in DataFrame.\")\n",
    "        return X\n",
    "\n",
    "    \n",
    "class Grouping(BaseEstimator, TransformerMixin):\n",
    "    def fit(self, X, y=None):\n",
    "        return self\n",
    "                  \n",
    "    def transform(self, X):\n",
    "        X = X.groupby(['WeekStartDate', 'Category', 'CustomerPerCategory' ])['Quantity'].sum()\n",
    "        X = pd.DataFrame(X)\n",
    "        X = X.reset_index()\n",
    "        X = X.set_index('WeekStartDate')\n",
    "        return X"
   ]
  },
  {
   "cell_type": "code",
   "execution_count": 228,
   "id": "3a43fb0d-4710-4ca9-9e75-c80305ca17f0",
   "metadata": {},
   "outputs": [],
   "source": [
    "pipeline = Pipeline([\n",
    "    ('remove', RemoveNegatives()),\n",
    "    ('features', CreateFeature()),\n",
    "    ('dates', ProcessDates()),\n",
    "    ('group', Grouping())\n",
    "])\n"
   ]
  },
  {
   "cell_type": "code",
   "execution_count": 232,
   "id": "ff928fe1-0933-40f0-a962-3864004a5dc9",
   "metadata": {},
   "outputs": [],
   "source": [
    "preprocessed_data = pipeline.fit_transform(merged_df)"
   ]
  },
  {
   "cell_type": "code",
   "execution_count": 233,
   "id": "ab8cc481-373f-4998-ab1b-1de55d91ae5c",
   "metadata": {},
   "outputs": [
    {
     "data": {
      "text/html": [
       "<div>\n",
       "<style scoped>\n",
       "    .dataframe tbody tr th:only-of-type {\n",
       "        vertical-align: middle;\n",
       "    }\n",
       "\n",
       "    .dataframe tbody tr th {\n",
       "        vertical-align: top;\n",
       "    }\n",
       "\n",
       "    .dataframe thead th {\n",
       "        text-align: right;\n",
       "    }\n",
       "</style>\n",
       "<table border=\"1\" class=\"dataframe\">\n",
       "  <thead>\n",
       "    <tr style=\"text-align: right;\">\n",
       "      <th></th>\n",
       "      <th>Category</th>\n",
       "      <th>CustomerPerCategory</th>\n",
       "      <th>Quantity</th>\n",
       "    </tr>\n",
       "    <tr>\n",
       "      <th>WeekStartDate</th>\n",
       "      <th></th>\n",
       "      <th></th>\n",
       "      <th></th>\n",
       "    </tr>\n",
       "  </thead>\n",
       "  <tbody>\n",
       "    <tr>\n",
       "      <th>2011-01-10</th>\n",
       "      <td>-1</td>\n",
       "      <td>6.944016e+08</td>\n",
       "      <td>16931</td>\n",
       "    </tr>\n",
       "    <tr>\n",
       "      <th>2011-01-10</th>\n",
       "      <td>0</td>\n",
       "      <td>1.048645e+09</td>\n",
       "      <td>38008</td>\n",
       "    </tr>\n",
       "    <tr>\n",
       "      <th>2011-01-10</th>\n",
       "      <td>1</td>\n",
       "      <td>1.209392e+08</td>\n",
       "      <td>8062</td>\n",
       "    </tr>\n",
       "    <tr>\n",
       "      <th>2011-01-10</th>\n",
       "      <td>2</td>\n",
       "      <td>6.718824e+06</td>\n",
       "      <td>96</td>\n",
       "    </tr>\n",
       "    <tr>\n",
       "      <th>2011-01-10</th>\n",
       "      <td>3</td>\n",
       "      <td>4.923072e+07</td>\n",
       "      <td>2473</td>\n",
       "    </tr>\n",
       "    <tr>\n",
       "      <th>...</th>\n",
       "      <td>...</td>\n",
       "      <td>...</td>\n",
       "      <td>...</td>\n",
       "    </tr>\n",
       "    <tr>\n",
       "      <th>2011-11-28</th>\n",
       "      <td>9</td>\n",
       "      <td>6.946356e+07</td>\n",
       "      <td>3786</td>\n",
       "    </tr>\n",
       "    <tr>\n",
       "      <th>2011-11-28</th>\n",
       "      <td>10</td>\n",
       "      <td>4.389032e+07</td>\n",
       "      <td>2865</td>\n",
       "    </tr>\n",
       "    <tr>\n",
       "      <th>2011-11-28</th>\n",
       "      <td>11</td>\n",
       "      <td>2.473839e+07</td>\n",
       "      <td>1861</td>\n",
       "    </tr>\n",
       "    <tr>\n",
       "      <th>2011-11-28</th>\n",
       "      <td>12</td>\n",
       "      <td>1.786908e+07</td>\n",
       "      <td>1694</td>\n",
       "    </tr>\n",
       "    <tr>\n",
       "      <th>2011-11-28</th>\n",
       "      <td>13</td>\n",
       "      <td>3.736564e+07</td>\n",
       "      <td>1147</td>\n",
       "    </tr>\n",
       "  </tbody>\n",
       "</table>\n",
       "<p>705 rows × 3 columns</p>\n",
       "</div>"
      ],
      "text/plain": [
       "               Category  CustomerPerCategory  Quantity\n",
       "WeekStartDate                                         \n",
       "2011-01-10           -1         6.944016e+08     16931\n",
       "2011-01-10            0         1.048645e+09     38008\n",
       "2011-01-10            1         1.209392e+08      8062\n",
       "2011-01-10            2         6.718824e+06        96\n",
       "2011-01-10            3         4.923072e+07      2473\n",
       "...                 ...                  ...       ...\n",
       "2011-11-28            9         6.946356e+07      3786\n",
       "2011-11-28           10         4.389032e+07      2865\n",
       "2011-11-28           11         2.473839e+07      1861\n",
       "2011-11-28           12         1.786908e+07      1694\n",
       "2011-11-28           13         3.736564e+07      1147\n",
       "\n",
       "[705 rows x 3 columns]"
      ]
     },
     "execution_count": 233,
     "metadata": {},
     "output_type": "execute_result"
    }
   ],
   "source": [
    "preprocessed_data"
   ]
  },
  {
   "cell_type": "code",
   "execution_count": 235,
   "id": "b6cb1bc2-539d-4c94-ac39-31fb76d94d4d",
   "metadata": {},
   "outputs": [],
   "source": [
    "preprocessed_data.to_csv('C:/Users/umitk/OneDrive/Documents/myspringboard/Capstone_3_Demand_Forecast/Data/preprocessed_forecast_data.csv')"
   ]
  },
  {
   "cell_type": "code",
   "execution_count": 236,
   "id": "624c687a-c4cc-44d0-8501-3241fd0781a5",
   "metadata": {},
   "outputs": [],
   "source": [
    "split =int(len(preprocessed_data) * 0.8) \n",
    "\n",
    "train, test = preprocessed_data[0:split] , preprocessed_data[split:len(preprocessed_data)]"
   ]
  },
  {
   "cell_type": "code",
   "execution_count": 237,
   "id": "e27bb0d5-3bae-468b-b7b1-24916e457a0d",
   "metadata": {},
   "outputs": [],
   "source": [
    "train.to_csv('C:/Users/umitk/OneDrive/Documents/myspringboard/Capstone_3_Demand_Forecast/Data/train_forecast.csv')\n",
    "test.to_csv('C:/Users/umitk/OneDrive/Documents/myspringboard/Capstone_3_Demand_Forecast/Data/test_forecast.csv')"
   ]
  },
  {
   "cell_type": "code",
   "execution_count": null,
   "id": "10f0a61f-7719-4965-b6df-4557051cdffa",
   "metadata": {},
   "outputs": [],
   "source": []
  }
 ],
 "metadata": {
  "kernelspec": {
   "display_name": "Python 3 (ipykernel)",
   "language": "python",
   "name": "python3"
  },
  "language_info": {
   "codemirror_mode": {
    "name": "ipython",
    "version": 3
   },
   "file_extension": ".py",
   "mimetype": "text/x-python",
   "name": "python",
   "nbconvert_exporter": "python",
   "pygments_lexer": "ipython3",
   "version": "3.11.7"
  }
 },
 "nbformat": 4,
 "nbformat_minor": 5
}
